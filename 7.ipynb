{
 "cells": [
  {
   "cell_type": "code",
   "execution_count": 25,
   "metadata": {},
   "outputs": [
    {
     "name": "stdout",
     "output_type": "stream",
     "text": [
      "\n",
      "HDBSCAN Clustering:\n",
      "Best HDBSCAN Score: 0.0442\n",
      "Best Parameters: {'min_cluster_size': 5, 'min_samples': 2}\n",
      "Number of Clusters: 2\n",
      "\n",
      "Folder Structure:\n",
      "+ Root (45 bookmarks, 2 subfolders)\n",
      "  - About Us\n",
      "  - januff/spotify-liked-songs-export: A Spotify Authorization Code flow using Remix and StepZen.\n",
      "  - macOS support · Issue #22 · ufal/whisper_streaming\n",
      "  - Operation Sea-Spray - Wikipedia\n",
      "  - World Bank - Wikipedia\n",
      "  - Announcing WIT: A Wikipedia-Based Image-Text Dataset\n",
      "  - YouTube\n",
      "  - Imagine Dragons - Dream (Jorgen Odegard Remix) - YouTube\n",
      "  - Fastly error: unknown domain uk.businessinsider.com\n",
      "  - GLUTEN FREE MUSEUM\n",
      "  - Google Cloud Next\n",
      "  - Gemini\n",
      "  - Freedom of Information Act Electronic Reading Room | CIA FOIA (foia.cia.gov)\n",
      "  - Известия – новости политики, экономики, спорта, культуры | IZ.RU\n",
      "  - Subscribe | The New Yorker\n",
      "  - 538 — Election Polls, Politics, and Analysis - ABC News\n",
      "  - the tiny corp raised $5.1M | the singularity is nearer\n",
      "  - ‘It was an accident’: the scientists who have turned humid air into renewable power | Science | The\n",
      "  - Science and Math News | Quanta Magazine\n",
      "  - Science Hub\n",
      "  - Linear Algebra—A Primer || Math ∩ Programming\n",
      "  - People Literally Don't Know When to Shut Up--or Keep Talking--Science Confirms | Scientific American\n",
      "  - 9789241596169_eng.pdf\n",
      "  - Half of US population exposed to adverse lead levels in early childhood | PNAS\n",
      "  - PT: 20 Best Psychology Books to Read in 2020 : r/PsychologicalTricks\n",
      "  - Homepage | BPS\n",
      "  - Best albums of 2022 - Rate Your Music\n",
      "  - Play Guardians of the Galaxy Vol. 2 (Original Score) by Tyler Bates on Amazon Music\n",
      "  - The Ultimate Guide to Men's Hair Products (Every Type Explained) – Beardbrand\n",
      "  - Notes - Daniel Imfeld\n",
      "  - [2109.02124] The Koha Code: A Biological Theory of Memory\n",
      "  - 404 Not Found\n",
      "  - Roland FP-30X Digital Piano with Speakers Home Bundle- Black | Sweetwater\n",
      "  - Quiver Quantitative\n",
      "  - Library | johnaugust.com\n",
      "  - Spurious Correlations\n",
      "  - https://www.intelligencecareers.gov/ic_jet2.html\n",
      "  - https://www.veromi.net/lander\n",
      "  - How to Get Unbanned from Overwatch 2 in 2024 - Unbanster\n",
      "  - River Nice LinkTree\n",
      "  - Bible Reading and Study Plans | Biblical Christianity\n",
      "  - APT vs APT-GET: What's the Difference?\n",
      "  - Microsoft Forms\n",
      "  - This is How You Died | The Order of the Good Death\n",
      "  - Drowning in Problems\n",
      "  + Cluster 0 (206 bookmarks, 0 subfolders)\n",
      "    - Debugging - Runtime / this-firefox\n",
      "    - Get Help\n",
      "    - Customize Firefox\n",
      "    - Get Involved\n",
      "    - Volunteer Opportunities at Mozilla — Mozilla\n",
      "    - scikit-learn-contrib/hdbscan: A high performance implementation of HDBSCAN clustering.\n",
      "    - Windows and Mac support · Issue #5 · mingruimingrui/fast-mosestokenizer\n",
      "    - GitHub Accelerator\n",
      "    - OSINT Framework\n",
      "    - cheetz (Peter Kim)\n",
      "    - Russian cuisine - Wikipedia\n",
      "    - Phoenix Program - Wikipedia\n",
      "    - Modern Hopfield network - Wikipedia\n",
      "    - Ultimate Tailwind CSS Tutorial // Build a Discord-inspired Animated Navbar - YouTube\n",
      "    - Install daisyUI as a Tailwind CSS plugin — Tailwind CSS Components ( version 4 update is here )\n",
      "    - All Categories - Twitch\n",
      "    - https://www.whereareyoutube.com/\n",
      "    - Untitled Bookmark\n",
      "    - Dropout - Independent, ad-free, uncensored comedy | Dropout\n",
      "    - breadchris\n",
      "    - Roasted Tomato and White Bean Stew Recipe\n",
      "    - Vanilla Soy Ice Cream Recipe - Food.com\n",
      "    - Domain Acquisition Service: Buy Registered Domains | eNaming\n",
      "    - The No-Justice Catalog - Google Drive\n",
      "    - RunPod - The Cloud Built for AI\n",
      "    - Meet AI’s multitool: Vector embeddings | Google Cloud Blog\n",
      "    - Tim Cannon's Homepage - Teaching 'Innovations'\n",
      "    - APIs & Services – Google Maps Platform – My First Project – Google Cloud console\n",
      "    - Google Messages for web\n",
      "    - Cloud Computing Services - Amazon Web Services (AWS)\n",
      "    - Training - Google Drive\n",
      "    - MR Online\n",
      "    - The CIA & the Frankfurt school’s anti-communism | MR Online\n",
      "    - 📜 ➜ Megathread\n",
      "    - Exploding Topics - Discover the hottest new trends.\n",
      "    - http://www.whatthefuckhasobamadonesofar.com/\n",
      "    - https://tweeterino.com/realDonaldTrump\n",
      "    - Blog - Austin Z. Henley\n",
      "    - 1500+ Best Website Templates (HTML & CSS) 2024 - Colorlib\n",
      "    - http://retdec.hostbin.org/index.html\n",
      "    - Hyperbole and a Half: The Alot is Better Than You at Everything\n",
      "    - Latent Space | swyx & Alessio | Substack\n",
      "    - Whisper JAX - a Hugging Face Space by sanchit-gandhi\n",
      "    - sentence-transformers/all-mpnet-base-v2 · Hugging Face\n",
      "    - Mental Illness Is Not in Your Head - Boston Review\n",
      "    - Life After Epic\n",
      "    - links and such – books are life\n",
      "    - DOTEXE\n",
      "    - Bandcamp\n",
      "    - https://event.crowdcompass.com/ugm2022/schedule-items?date=2022-08-21\n",
      "    - Amazon Music Unlimited | Stream 100 Million Songs & Podcasts\n",
      "    - DBOS | A Database-Oriented Operating System\n",
      "    - CS:GO: From Zero to 0-day — Neodyme\n",
      "    - Best Online Cybersecurity Courses & Certifications | HTB Academy\n",
      "    - The Daily Swig | Cybersecurity news and views\n",
      "    - Updates – Secure Planet\n",
      "    - Exploit Database - Exploits for Penetration Testers, Researchers, and Ethical Hackers\n",
      "    - OverTheWire: Wargames\n",
      "    - Essentials – Kith\n",
      "    - Mens Clothes & Unisex Clothes | Shop Online Fashion – HOOOYI\n",
      "    - Graphic Tees, Cool T Shirt Designs For Men And Women - DesignByHumans\n",
      "    - Ugmonk\n",
      "    - https://45.79.25.185/_/#/collections?collectionId=_pb_users_auth_&filter=&sort=-created\n",
      "    - Dark Seas Division\n",
      "    - All – MSFTSrep\n",
      "    - Kith\n",
      "    - Men's Gilly Hicks Sherpa Quarter-Zip | Men's Clearance | HollisterCo.com\n",
      "    - another example of unrealistic body expectations for men - Imgur\n",
      "    - A Short Guide to Fall Sweaters : r/malefashionadvice\n",
      "    - JustWatch - The Streaming Guide\n",
      "    - CodePen: Online Code Editor and Front End Web Developer Community\n",
      "    - Fireship - Learn to Code Faster\n",
      "    - Features | Cursor - The AI-first Code Editor\n",
      "    - Login | HeadshotPro\n",
      "    - Log In — WordPress.com\n",
      "    - Login – Vercel\n",
      "    - Online Banking Log In\n",
      "    - Sign In | Pocket Prep\n",
      "    - http://localhost:5173/\n",
      "    - Welcome to nginx!\n",
      "    - http://dev.thi.ng/gradients/\n",
      "    - 404 Not Found\n",
      "    - 500 Internal Server Error\n",
      "    - Error page :(\n",
      "    - Loreteller\n",
      "    - Graphtoy\n",
      "    - D3 by Observable | The JavaScript library for bespoke data visualization\n",
      "    - Mash Radar - Etsy\n",
      "    - ArtStation - Garden\n",
      "    - Humble Bundle - Key already claimed\n",
      "    - Sketchpad - Draw, Create, Share!\n",
      "    - Learn | Pinecone\n",
      "    - Chat with Open Large Language Models\n",
      "    - Translations: | BabyAGI\n",
      "    - TensorFlow Recommenders\n",
      "    - Find Pre-trained Models | Kaggle\n",
      "    - Banana - GPUs For Inference\n",
      "    - AutoGPT Documentation\n",
      "    - AutoGPT Official\n",
      "    - AlphaCode\n",
      "    - Machine Learning is Fun!\n",
      "    - SDWORKS - Helping Individuals Reach Employment\n",
      "    - Careers | Bedford Industries\n",
      "    - My Job Search\n",
      "    - ann arbor internships\n",
      "    - Client-side component API • Docs • Svelte\n",
      "    - Jamstack Conf\n",
      "    - Transitions / Deferred transitions • Svelte Tutorial\n",
      "    - The best deals in the 2022 Steam Winter Sale | PC Gamer\n",
      "    - The top 100 PC games | PC Gamer\n",
      "    - IsThereAnyDeal\n",
      "    - Search\n",
      "    - Shodan Search Engine\n",
      "    - Kali Linux Revealed (KLR/PEN-103) | Mastering the Penetest Distribution\n",
      "    - Basic Linux Privilege Escalation - g0tmi1k\n",
      "    - Windows Privilege Escalation Guide\n",
      "    - Debugging - Setup\n",
      "    - LPT: How to get more out of Google - Imgur\n",
      "    - Flexfit - V-Flex Twill Cap - CVF038 | Custom Image Wear | Phelps\n",
      "    - Scrapy | A Fast and Powerful Scraping and Web Crawling Framework\n",
      "    - Ohma World\n",
      "    - Remote Jobs in Programming, Design, Sales and more #OpenSalaries\n",
      "    - PNPT: Certification Review - Black Hills Information Security\n",
      "    - Reddit - Dive into anything\n",
      "    - Rat Race Rebellion - Real Work from Home Jobs Since 1999\n",
      "    - Svelte Recipes: World Map\n",
      "    - https://www.enyxo.com/trial/\n",
      "    - SerpApi: Google Search API\n",
      "    - public-apis/public-apis: A collective list of free APIs\n",
      "    - Concept2 rowing machine at DuckDuckGo\n",
      "    - Agent-OM: Leveraging LLM Agents for Ontology Matching - 2312.00326v2.pdf\n",
      "    - 10 Noteworthy AI Research Papers of 2023\n",
      "    - 3D Gaussian Splatting for Real-Time Radiance Field Rendering\n",
      "    - Mandelbrot and Julia set – MATIGEKUNSTINTELLIGENTIE\n",
      "    - The Python Scrapy Playbook | The Python Scrapy Playbook\n",
      "    - Taskade — AI-Powered Productivity, Your Second Brain.\n",
      "    - Slack\n",
      "    - StackShare - Tech Stack Intelligence\n",
      "    - UnityTechnologies/MachineLearningRoguelike: A small Roguelike game that uses Machine Learning to pow\n",
      "    - US Accidents (2016 - 2023)\n",
      "    - Weights & Biases For Fans Of Two Minute Papers\n",
      "    - Sponsors | Oregon Cyber Security | Cyber Oregon\n",
      "    - Welcome [Root Me : Hacking and Information Security learning platform]\n",
      "    - CheckUsernames - Social Media Username Search by KnowEm\n",
      "    - Bypassing CSP using polyglot JPEGs | PortSwigger Research\n",
      "    - https://runeforge.gg/\n",
      "    - Reddit - https://i.redd.it/lxlir08l5fpz.png\n",
      "    - Manta1131 🌮 Situs Slot Gacor Terpercaya Jackpot Maxwin di Tangan\n",
      "    - Pyodide — Version 0.26.0\n",
      "    - Jina CLIP v1: A Truly Multimodal Embeddings Model for Text and Image\n",
      "    - jinaai/jina-clip-v1 · Hugging Face\n",
      "    - Embedding API\n",
      "    - [2405.20204] Jina CLIP: Your CLIP Model Is Also Your Text Retriever\n",
      "    - Jina AI - Your Search Foundation, Supercharged.\n",
      "    - The 25 Best Two-Line Jokes Ever - Funny post - Imgur\n",
      "    - doggo inspo (dogspo) - Imgur\n",
      "    - How I feel when playing a Shooter - Imgur\n",
      "    - When our parents told us - Imgur\n",
      "    - Anon attends a party - Imgur\n",
      "    - 23 Worst/Most unfortunate ad placements - Imgur\n",
      "    - To be a good dog I must use math - GIF - Imgur\n",
      "    - Orange Hitler vs Grandma Nixon - Imgur\n",
      "    - Have a Drink ! - Eat What You Want post - Imgur\n",
      "    - Battlefield 1 Wallpapers - battlefield post - Imgur\n",
      "    - - GIF - Imgur\n",
      "    - When you become a smart trolls personal enemy - Imgur\n",
      "    - Imgur: The magic of the Internet\n",
      "    - Imgur: The magic of the Internet\n",
      "    - Using ChatGPT to clean scraped data, and how to handle any big document with ChatGPT - LunaBrain\n",
      "    - ChatGPT\n",
      "    - ChatGPT\n",
      "    - Scientists complete first map of an insect brain | Hub\n",
      "    - Journal of Neuroscience\n",
      "    - This Protein Could Boost Brain Function without Exercise | Scientific American\n",
      "    - Mind & Brain | Scientific American\n",
      "    - Home - RA Benefits\n",
      "    - Dakota State University Team Site - Home\n",
      "    - DEPT - Residence Life\n",
      "    - Home\n",
      "    - Oops! - Dakota State University\n",
      "    - Page not found | CSE Research Experience for Undergraduates | Washington University in St. Louis\n",
      "    - REU: Big Data Analytics at Oklahoma State University\n",
      "    - http://reu.cs.wright.edu/projects.html\n",
      "    - DIMACS REU: Research Experience for Undergraduates\n",
      "    - REU Program | Worcester Polytechnic Institute\n",
      "    - SRCA-REU - Research Projects\n",
      "    - API Reference - OpenAI API\n",
      "    - OpenAI Platform\n",
      "    - WebGL Overlay (native API)  |  Maps JavaScript API  |  Google for Developers\n",
      "    - Overview - OpenAI API\n",
      "    - Inbox (2,919) - timgsereda@gmail.com - Gmail\n",
      "    - Mail - Sereda, Timothy - Outlook\n",
      "    - Mail - Timothy Sereda - Outlook\n",
      "    - Mail - Sereda, Timothy - Outlook\n",
      "    - Unity Cheat Sheet\n",
      "    - HTML Cheat Sheet 📃 - The Best Interactive Cheat Sheet\n",
      "    - 524924d9-tft-set-7-cheat-sheet.png (PNG Image, 3000 × 1850 pixels) — Scaled (50%)\n",
      "    - Metasploit cheat sheet | Infosec\n",
      "    - Factorio v0.14 Cheat Sheets - Imgur\n",
      "    - Creating a gird system in Unity2D : r/Unity2D\n",
      "    - [Tutorial] Making a Grid with a 2D Array - Unity Forum\n",
      "    - How to move an object with the mouse in Unity (2D) - Game Dev Beginner\n",
      "    - https://pf.millennialsd.com/2017/09/26/resolved-the-united-states-should-require-universal-backgroun\n",
      "    - Sanford Careers - Linux Server Administrator in Sioux Falls, South Dakota, United States\n",
      "    - Sanford Careers - Unified Communications Technician - IT - Sioux Falls in Sioux Falls, South Dakota,\n",
      "    - Sanford Careers - Applications Support Technician in Sioux Falls, South Dakota, United States\n",
      "  + Cluster 1 (7 bookmarks, 0 subfolders)\n",
      "    - 1, 2 & 3 Bedroom Apartments in Madison, WI | Preserve West\n",
      "    - Home - Hometown Property Management, LLC\n",
      "    - 5934 Seminole Ct #1| Residential | Madison Property Management, Inc.\n",
      "    - Madison Area Listings | Madison Property Management, Inc\n",
      "    - McBride Companies | McBride Companies LLC\n",
      "    - 404 Page Not Found\n",
      "    - 211 South Franklin Street #1 Lease.pdf\n"
     ]
    },
    {
     "data": {
      "application/vnd.plotly.v1+json": {
       "config": {
        "plotlyServerURL": "https://plot.ly"
       },
       "data": [
        {
         "customdata": [
          [
           "Debugging - Runtime / this-firefox"
          ],
          [
           "Get Help"
          ],
          [
           "Customize Firefox"
          ],
          [
           "Get Involved"
          ],
          [
           "About Us"
          ],
          [
           "Volunteer Opportunities at Mozilla — Mozilla"
          ],
          [
           "scikit-learn-contrib/hdbscan: A high performance implementation of HDBSCAN clustering."
          ],
          [
           "januff/spotify-liked-songs-export: A Spotify Authorization Code flow using Remix and StepZen."
          ],
          [
           "macOS support · Issue #22 · ufal/whisper_streaming"
          ],
          [
           "Windows and Mac support · Issue #5 · mingruimingrui/fast-mosestokenizer"
          ],
          [
           "GitHub Accelerator"
          ],
          [
           "OSINT Framework"
          ],
          [
           "cheetz (Peter Kim)"
          ],
          [
           "Russian cuisine - Wikipedia"
          ],
          [
           "Operation Sea-Spray - Wikipedia"
          ],
          [
           "Phoenix Program - Wikipedia"
          ],
          [
           "World Bank - Wikipedia"
          ],
          [
           "Modern Hopfield network - Wikipedia"
          ],
          [
           "Announcing WIT: A Wikipedia-Based Image-Text Dataset"
          ],
          [
           "YouTube"
          ],
          [
           "Ultimate Tailwind CSS Tutorial // Build a Discord-inspired Animated Navbar - YouTube"
          ],
          [
           "Install daisyUI as a Tailwind CSS plugin — Tailwind CSS Components ( version 4 update is here )"
          ],
          [
           "All Categories - Twitch"
          ],
          [
           "https://www.whereareyoutube.com/"
          ],
          [
           "Imagine Dragons - Dream (Jorgen Odegard Remix) - YouTube"
          ],
          [
           "Untitled Bookmark"
          ],
          [
           "Dropout - Independent, ad-free, uncensored comedy | Dropout"
          ],
          [
           "breadchris"
          ],
          [
           "Roasted Tomato and White Bean Stew Recipe"
          ],
          [
           "Vanilla Soy Ice Cream Recipe - Food.com"
          ],
          [
           "Fastly error: unknown domain uk.businessinsider.com"
          ],
          [
           "GLUTEN FREE MUSEUM"
          ],
          [
           "Domain Acquisition Service: Buy Registered Domains | eNaming"
          ],
          [
           "The No-Justice Catalog - Google Drive"
          ],
          [
           "RunPod - The Cloud Built for AI"
          ],
          [
           "Google Cloud Next"
          ],
          [
           "Meet AI’s multitool: Vector embeddings | Google Cloud Blog"
          ],
          [
           "Tim Cannon's Homepage - Teaching 'Innovations'"
          ],
          [
           "Gemini"
          ],
          [
           "APIs & Services – Google Maps Platform – My First Project – Google Cloud console"
          ],
          [
           "Google Messages for web"
          ],
          [
           "Cloud Computing Services - Amazon Web Services (AWS)"
          ],
          [
           "Training - Google Drive"
          ],
          [
           "Freedom of Information Act Electronic Reading Room | CIA FOIA (foia.cia.gov)"
          ],
          [
           "MR Online"
          ],
          [
           "The CIA & the Frankfurt school’s anti-communism | MR Online"
          ],
          [
           "Известия – новости политики, экономики, спорта, культуры | IZ.RU"
          ],
          [
           "Subscribe | The New Yorker"
          ],
          [
           "📜 ➜ Megathread"
          ],
          [
           "538 — Election Polls, Politics, and Analysis - ABC News"
          ],
          [
           "Exploding Topics - Discover the hottest new trends."
          ],
          [
           "http://www.whatthefuckhasobamadonesofar.com/"
          ],
          [
           "https://tweeterino.com/realDonaldTrump"
          ],
          [
           "the tiny corp raised $5.1M | the singularity is nearer"
          ],
          [
           "Blog - Austin Z. Henley"
          ],
          [
           "1500+ Best Website Templates (HTML & CSS) 2024 - Colorlib"
          ],
          [
           "http://retdec.hostbin.org/index.html"
          ],
          [
           "Hyperbole and a Half: The Alot is Better Than You at Everything"
          ],
          [
           "Latent Space | swyx & Alessio | Substack"
          ],
          [
           "Whisper JAX - a Hugging Face Space by sanchit-gandhi"
          ],
          [
           "sentence-transformers/all-mpnet-base-v2 · Hugging Face"
          ],
          [
           "‘It was an accident’: the scientists who have turned humid air into renewable power | Science | The"
          ],
          [
           "Science and Math News | Quanta Magazine"
          ],
          [
           "Science Hub"
          ],
          [
           "Linear Algebra—A Primer || Math ∩ Programming"
          ],
          [
           "People Literally Don't Know When to Shut Up--or Keep Talking--Science Confirms | Scientific American"
          ],
          [
           "Mental Illness Is Not in Your Head - Boston Review"
          ],
          [
           "9789241596169_eng.pdf"
          ],
          [
           "Life After Epic"
          ],
          [
           "Half of US population exposed to adverse lead levels in early childhood | PNAS"
          ],
          [
           "links and such – books are life"
          ],
          [
           "PT: 20 Best Psychology Books to Read in 2020 : r/PsychologicalTricks"
          ],
          [
           "Homepage | BPS"
          ],
          [
           "DOTEXE"
          ],
          [
           "Bandcamp"
          ],
          [
           "https://event.crowdcompass.com/ugm2022/schedule-items?date=2022-08-21"
          ],
          [
           "Best albums of 2022 - Rate Your Music"
          ],
          [
           "Play Guardians of the Galaxy Vol. 2 (Original Score) by Tyler Bates on Amazon Music"
          ],
          [
           "Amazon Music Unlimited | Stream 100 Million Songs & Podcasts"
          ],
          [
           "DBOS | A Database-Oriented Operating System"
          ],
          [
           "CS:GO: From Zero to 0-day — Neodyme"
          ],
          [
           "Best Online Cybersecurity Courses & Certifications | HTB Academy"
          ],
          [
           "The Daily Swig | Cybersecurity news and views"
          ],
          [
           "Updates – Secure Planet"
          ],
          [
           "Exploit Database - Exploits for Penetration Testers, Researchers, and Ethical Hackers"
          ],
          [
           "OverTheWire: Wargames"
          ],
          [
           "Essentials – Kith"
          ],
          [
           "Mens Clothes & Unisex Clothes | Shop Online Fashion – HOOOYI"
          ],
          [
           "Graphic Tees, Cool T Shirt Designs For Men And Women - DesignByHumans"
          ],
          [
           "Ugmonk"
          ],
          [
           "https://45.79.25.185/_/#/collections?collectionId=_pb_users_auth_&filter=&sort=-created"
          ],
          [
           "Dark Seas Division"
          ],
          [
           "All – MSFTSrep"
          ],
          [
           "Kith"
          ],
          [
           "Men's Gilly Hicks Sherpa Quarter-Zip | Men's Clearance | HollisterCo.com"
          ],
          [
           "another example of unrealistic body expectations for men - Imgur"
          ],
          [
           "The Ultimate Guide to Men's Hair Products (Every Type Explained) – Beardbrand"
          ],
          [
           "A Short Guide to Fall Sweaters : r/malefashionadvice"
          ],
          [
           "JustWatch - The Streaming Guide"
          ],
          [
           "Notes - Daniel Imfeld"
          ],
          [
           "[2109.02124] The Koha Code: A Biological Theory of Memory"
          ],
          [
           "CodePen: Online Code Editor and Front End Web Developer Community"
          ],
          [
           "Fireship - Learn to Code Faster"
          ],
          [
           "Features | Cursor - The AI-first Code Editor"
          ],
          [
           "Login | HeadshotPro"
          ],
          [
           "Log In — WordPress.com"
          ],
          [
           "Login – Vercel"
          ],
          [
           "Online Banking Log In"
          ],
          [
           "Sign In | Pocket Prep"
          ],
          [
           "1, 2 & 3 Bedroom Apartments in Madison, WI | Preserve West"
          ],
          [
           "Home - Hometown Property Management, LLC"
          ],
          [
           "5934 Seminole Ct #1| Residential | Madison Property Management, Inc."
          ],
          [
           "Madison Area Listings | Madison Property Management, Inc"
          ],
          [
           "McBride Companies | McBride Companies LLC"
          ],
          [
           "404 Page Not Found"
          ],
          [
           "http://localhost:5173/"
          ],
          [
           "Welcome to nginx!"
          ],
          [
           "http://dev.thi.ng/gradients/"
          ],
          [
           "404 Not Found"
          ],
          [
           "404 Not Found"
          ],
          [
           "500 Internal Server Error"
          ],
          [
           "Error page :("
          ],
          [
           "Loreteller"
          ],
          [
           "Roland FP-30X Digital Piano with Speakers Home Bundle- Black | Sweetwater"
          ],
          [
           "Graphtoy"
          ],
          [
           "D3 by Observable | The JavaScript library for bespoke data visualization"
          ],
          [
           "Quiver Quantitative"
          ],
          [
           "Mash Radar - Etsy"
          ],
          [
           "ArtStation - Garden"
          ],
          [
           "Library | johnaugust.com"
          ],
          [
           "Humble Bundle - Key already claimed"
          ],
          [
           "Spurious Correlations"
          ],
          [
           "Sketchpad - Draw, Create, Share!"
          ],
          [
           "Learn | Pinecone"
          ],
          [
           "Chat with Open Large Language Models"
          ],
          [
           "Translations: | BabyAGI"
          ],
          [
           "TensorFlow Recommenders"
          ],
          [
           "Find Pre-trained Models | Kaggle"
          ],
          [
           "Banana - GPUs For Inference"
          ],
          [
           "AutoGPT Documentation"
          ],
          [
           "AutoGPT Official"
          ],
          [
           "AlphaCode"
          ],
          [
           "Machine Learning is Fun!"
          ],
          [
           "SDWORKS - Helping Individuals Reach Employment"
          ],
          [
           "https://www.intelligencecareers.gov/ic_jet2.html"
          ],
          [
           "Careers | Bedford Industries"
          ],
          [
           "My Job Search"
          ],
          [
           "ann arbor internships"
          ],
          [
           "Client-side component API • Docs • Svelte"
          ],
          [
           "Jamstack Conf"
          ],
          [
           "Transitions / Deferred transitions • Svelte Tutorial"
          ],
          [
           "The best deals in the 2022 Steam Winter Sale | PC Gamer"
          ],
          [
           "The top 100 PC games | PC Gamer"
          ],
          [
           "IsThereAnyDeal"
          ],
          [
           "Search"
          ],
          [
           "Shodan Search Engine"
          ],
          [
           "https://www.veromi.net/lander"
          ],
          [
           "Kali Linux Revealed (KLR/PEN-103) | Mastering the Penetest Distribution"
          ],
          [
           "Basic Linux Privilege Escalation - g0tmi1k"
          ],
          [
           "Windows Privilege Escalation Guide"
          ],
          [
           "Debugging - Setup"
          ],
          [
           "LPT: How to get more out of Google - Imgur"
          ],
          [
           "Flexfit - V-Flex Twill Cap - CVF038 | Custom Image Wear | Phelps"
          ],
          [
           "Scrapy | A Fast and Powerful Scraping and Web Crawling Framework"
          ],
          [
           "Ohma World"
          ],
          [
           "Remote Jobs in Programming, Design, Sales and more #OpenSalaries"
          ],
          [
           "PNPT: Certification Review - Black Hills Information Security"
          ],
          [
           "Reddit - Dive into anything"
          ],
          [
           "Rat Race Rebellion - Real Work from Home Jobs Since 1999"
          ],
          [
           "211 South Franklin Street #1 Lease.pdf"
          ],
          [
           "Svelte Recipes: World Map"
          ],
          [
           "How to Get Unbanned from Overwatch 2 in 2024 - Unbanster"
          ],
          [
           "River Nice LinkTree"
          ],
          [
           "https://www.enyxo.com/trial/"
          ],
          [
           "SerpApi: Google Search API"
          ],
          [
           "public-apis/public-apis: A collective list of free APIs"
          ],
          [
           "Concept2 rowing machine at DuckDuckGo"
          ],
          [
           "Agent-OM: Leveraging LLM Agents for Ontology Matching - 2312.00326v2.pdf"
          ],
          [
           "10 Noteworthy AI Research Papers of 2023"
          ],
          [
           "3D Gaussian Splatting for Real-Time Radiance Field Rendering"
          ],
          [
           "Mandelbrot and Julia set – MATIGEKUNSTINTELLIGENTIE"
          ],
          [
           "The Python Scrapy Playbook | The Python Scrapy Playbook"
          ],
          [
           "Bible Reading and Study Plans | Biblical Christianity"
          ],
          [
           "Taskade — AI-Powered Productivity, Your Second Brain."
          ],
          [
           "APT vs APT-GET: What's the Difference?"
          ],
          [
           "Slack"
          ],
          [
           "StackShare - Tech Stack Intelligence"
          ],
          [
           "UnityTechnologies/MachineLearningRoguelike: A small Roguelike game that uses Machine Learning to pow"
          ],
          [
           "Microsoft Forms"
          ],
          [
           "US Accidents (2016 - 2023)"
          ],
          [
           "Weights & Biases For Fans Of Two Minute Papers"
          ],
          [
           "Sponsors | Oregon Cyber Security | Cyber Oregon"
          ],
          [
           "Welcome [Root Me : Hacking and Information Security learning platform]"
          ],
          [
           "CheckUsernames - Social Media Username Search by KnowEm"
          ],
          [
           "Bypassing CSP using polyglot JPEGs | PortSwigger Research"
          ],
          [
           "This is How You Died | The Order of the Good Death"
          ],
          [
           "https://runeforge.gg/"
          ],
          [
           "Reddit - https://i.redd.it/lxlir08l5fpz.png"
          ],
          [
           "Manta1131 🌮 Situs Slot Gacor Terpercaya Jackpot Maxwin di Tangan"
          ],
          [
           "Drowning in Problems"
          ],
          [
           "Pyodide — Version 0.26.0"
          ],
          [
           "Jina CLIP v1: A Truly Multimodal Embeddings Model for Text and Image"
          ],
          [
           "jinaai/jina-clip-v1 · Hugging Face"
          ],
          [
           "Embedding API"
          ],
          [
           "[2405.20204] Jina CLIP: Your CLIP Model Is Also Your Text Retriever"
          ],
          [
           "Jina AI - Your Search Foundation, Supercharged."
          ],
          [
           "The 25 Best Two-Line Jokes Ever - Funny post - Imgur"
          ],
          [
           "doggo inspo (dogspo) - Imgur"
          ],
          [
           "How I feel when playing a Shooter - Imgur"
          ],
          [
           "When our parents told us - Imgur"
          ],
          [
           "Anon attends a party - Imgur"
          ],
          [
           "23 Worst/Most unfortunate ad placements - Imgur"
          ],
          [
           "To be a good dog I must use math - GIF - Imgur"
          ],
          [
           "Orange Hitler vs Grandma Nixon - Imgur"
          ],
          [
           "Have a Drink ! - Eat What You Want post - Imgur"
          ],
          [
           "Battlefield 1 Wallpapers - battlefield post - Imgur"
          ],
          [
           "- GIF - Imgur"
          ],
          [
           "When you become a smart trolls personal enemy - Imgur"
          ],
          [
           "Imgur: The magic of the Internet"
          ],
          [
           "Imgur: The magic of the Internet"
          ],
          [
           "Using ChatGPT to clean scraped data, and how to handle any big document with ChatGPT - LunaBrain"
          ],
          [
           "ChatGPT"
          ],
          [
           "ChatGPT"
          ],
          [
           "Scientists complete first map of an insect brain | Hub"
          ],
          [
           "Journal of Neuroscience"
          ],
          [
           "This Protein Could Boost Brain Function without Exercise | Scientific American"
          ],
          [
           "Mind & Brain | Scientific American"
          ],
          [
           "Home - RA Benefits"
          ],
          [
           "Dakota State University Team Site - Home"
          ],
          [
           "DEPT - Residence Life"
          ],
          [
           "Home"
          ],
          [
           "Oops! - Dakota State University"
          ],
          [
           "Page not found | CSE Research Experience for Undergraduates | Washington University in St. Louis"
          ],
          [
           "REU: Big Data Analytics at Oklahoma State University"
          ],
          [
           "http://reu.cs.wright.edu/projects.html"
          ],
          [
           "DIMACS REU: Research Experience for Undergraduates"
          ],
          [
           "REU Program | Worcester Polytechnic Institute"
          ],
          [
           "SRCA-REU - Research Projects"
          ],
          [
           "API Reference - OpenAI API"
          ],
          [
           "OpenAI Platform"
          ],
          [
           "WebGL Overlay (native API)  |  Maps JavaScript API  |  Google for Developers"
          ],
          [
           "Overview - OpenAI API"
          ],
          [
           "Inbox (2,919) - timgsereda@gmail.com - Gmail"
          ],
          [
           "Mail - Sereda, Timothy - Outlook"
          ],
          [
           "Mail - Timothy Sereda - Outlook"
          ],
          [
           "Mail - Sereda, Timothy - Outlook"
          ],
          [
           "Unity Cheat Sheet"
          ],
          [
           "HTML Cheat Sheet 📃 - The Best Interactive Cheat Sheet"
          ],
          [
           "524924d9-tft-set-7-cheat-sheet.png (PNG Image, 3000 × 1850 pixels) — Scaled (50%)"
          ],
          [
           "Metasploit cheat sheet | Infosec"
          ],
          [
           "Factorio v0.14 Cheat Sheets - Imgur"
          ],
          [
           "Creating a gird system in Unity2D : r/Unity2D"
          ],
          [
           "[Tutorial] Making a Grid with a 2D Array - Unity Forum"
          ],
          [
           "How to move an object with the mouse in Unity (2D) - Game Dev Beginner"
          ],
          [
           "https://pf.millennialsd.com/2017/09/26/resolved-the-united-states-should-require-universal-backgroun"
          ],
          [
           "Sanford Careers - Linux Server Administrator in Sioux Falls, South Dakota, United States"
          ],
          [
           "Sanford Careers - Unified Communications Technician - IT - Sioux Falls in Sioux Falls, South Dakota,"
          ],
          [
           "Sanford Careers - Applications Support Technician in Sioux Falls, South Dakota, United States"
          ]
         ],
         "hovertemplate": "t-SNE1=%{x}<br>t-SNE2=%{y}<br>Title=%{customdata[0]}<br>Cluster=%{marker.color}<extra></extra>",
         "legendgroup": "",
         "marker": {
          "color": [
           0,
           0,
           0,
           0,
           -1,
           0,
           0,
           -1,
           -1,
           0,
           0,
           0,
           0,
           0,
           -1,
           0,
           -1,
           0,
           -1,
           -1,
           0,
           0,
           0,
           0,
           -1,
           0,
           0,
           0,
           0,
           0,
           -1,
           -1,
           0,
           0,
           0,
           -1,
           0,
           0,
           -1,
           0,
           0,
           0,
           0,
           -1,
           0,
           0,
           -1,
           -1,
           0,
           -1,
           0,
           0,
           0,
           -1,
           0,
           0,
           0,
           0,
           0,
           0,
           0,
           -1,
           -1,
           -1,
           -1,
           -1,
           0,
           -1,
           0,
           -1,
           0,
           -1,
           -1,
           0,
           0,
           0,
           -1,
           -1,
           0,
           0,
           0,
           0,
           0,
           0,
           0,
           0,
           0,
           0,
           0,
           0,
           0,
           0,
           0,
           0,
           0,
           0,
           -1,
           0,
           0,
           -1,
           -1,
           0,
           0,
           0,
           0,
           0,
           0,
           0,
           0,
           1,
           1,
           1,
           1,
           1,
           1,
           0,
           0,
           0,
           0,
           -1,
           0,
           0,
           0,
           -1,
           0,
           0,
           -1,
           0,
           0,
           -1,
           0,
           -1,
           0,
           0,
           0,
           0,
           0,
           0,
           0,
           0,
           0,
           0,
           0,
           0,
           -1,
           0,
           0,
           0,
           0,
           0,
           0,
           0,
           0,
           0,
           0,
           0,
           -1,
           0,
           0,
           0,
           0,
           0,
           0,
           0,
           0,
           0,
           0,
           0,
           0,
           1,
           0,
           -1,
           -1,
           0,
           0,
           0,
           0,
           0,
           0,
           0,
           0,
           0,
           -1,
           0,
           -1,
           0,
           0,
           0,
           -1,
           0,
           0,
           0,
           0,
           0,
           0,
           -1,
           0,
           0,
           0,
           -1,
           0,
           0,
           0,
           0,
           0,
           0,
           0,
           0,
           0,
           0,
           0,
           0,
           0,
           0,
           0,
           0,
           0,
           0,
           0,
           0,
           0,
           0,
           0,
           0,
           0,
           0,
           0,
           0,
           0,
           0,
           0,
           0,
           0,
           0,
           0,
           0,
           0,
           0,
           0,
           0,
           0,
           0,
           0,
           0,
           0,
           0,
           0,
           0,
           0,
           0,
           0,
           0,
           0,
           0,
           0,
           0,
           0,
           0
          ],
          "coloraxis": "coloraxis",
          "symbol": "circle"
         },
         "mode": "markers",
         "name": "",
         "orientation": "v",
         "showlegend": false,
         "type": "scatter",
         "x": [
          0.11155339330434799,
          0.920906662940979,
          0.13755911588668823,
          1.6876235008239746,
          2.443162441253662,
          1.6338441371917725,
          -8.058389663696289,
          10.654545783996582,
          -9.97776985168457,
          -9.97527027130127,
          -0.055843185633420944,
          -8.868523597717285,
          1.2782591581344604,
          2.3778364658355713,
          16.485849380493164,
          16.419574737548828,
          13.695174217224121,
          -12.189519882202148,
          -12.794042587280273,
          8.990808486938477,
          7.130028247833252,
          6.931272029876709,
          7.798066139221191,
          11.447037696838379,
          12.353858947753906,
          10.447879791259766,
          9.21782398223877,
          3.094651222229004,
          2.3506579399108887,
          2.271517276763916,
          2.630887508392334,
          3.8329694271087646,
          2.6854584217071533,
          6.829440116882324,
          -12.000388145446777,
          5.227277755737305,
          -13.643725395202637,
          6.8879289627075195,
          -9.539063453674316,
          3.875025510787964,
          2.5445144176483154,
          6.56321907043457,
          6.449750900268555,
          10.527164459228516,
          13.464364051818848,
          13.473677635192871,
          4.492022514343262,
          14.956847190856934,
          -1.4163213968276978,
          14.661628723144531,
          -12.791878700256348,
          12.204136848449707,
          12.587579727172852,
          -6.211446285247803,
          1.4163734912872314,
          0.275201678276062,
          -7.366587162017822,
          11.209773063659668,
          -8.620368957519531,
          -15.083383560180664,
          -15.719010353088379,
          -12.109240531921387,
          -9.352587699890137,
          -17.442628860473633,
          -3.8554773330688477,
          -14.920334815979004,
          -15.485369682312012,
          -18.244361877441406,
          -3.013171672821045,
          -16.2941837310791,
          10.213153839111328,
          -6.876276969909668,
          -15.34146785736084,
          -2.396134376525879,
          10.625786781311035,
          11.064848899841309,
          -2.162447929382324,
          11.673613548278809,
          10.949685096740723,
          -7.72914457321167,
          -4.606055736541748,
          -4.57784366607666,
          -6.263891220092773,
          -5.786888122558594,
          -5.786651611328125,
          -4.914398670196533,
          17.07314109802246,
          16.414148330688477,
          16.703670501708984,
          17.671363830566406,
          11.338091850280762,
          18.271055221557617,
          16.692777633666992,
          17.27515983581543,
          19.00749397277832,
          9.113849639892578,
          16.927772521972656,
          17.888999938964844,
          9.274205207824707,
          -0.5814507603645325,
          -17.29903793334961,
          1.592563509941101,
          1.8081029653549194,
          0.49251094460487366,
          3.540647029876709,
          3.6211564540863037,
          3.193598747253418,
          4.690443515777588,
          -3.4463233947753906,
          7.2504072189331055,
          8.683768272399902,
          7.681906700134277,
          7.277811050415039,
          8.682104110717773,
          6.407546520233154,
          2.4509761333465576,
          5.4088134765625,
          4.1202802658081055,
          6.775137901306152,
          8.042455673217773,
          10.073522567749023,
          -5.970162391662598,
          5.34214973449707,
          -1.3347331285476685,
          2.3885257244110107,
          1.6633235216140747,
          -9.05475902557373,
          15.232416152954102,
          4.747568130493164,
          6.971200466156006,
          -2.6539206504821777,
          -14.499837875366211,
          4.1892876625061035,
          -10.123839378356934,
          -0.6490851044654846,
          -0.7899281978607178,
          -10.547117233276367,
          -11.372092247009277,
          -0.8212426900863647,
          -11.710845947265625,
          -11.428861618041992,
          -11.37333869934082,
          -9.682265281677246,
          -2.3063886165618896,
          -3.876877784729004,
          -2.516944646835327,
          -2.9772844314575195,
          -3.771857261657715,
          4.80037260055542,
          2.931713581085205,
          4.340750694274902,
          -3.9455888271331787,
          -3.5880465507507324,
          -4.850438594818115,
          -9.644143104553223,
          -6.05670690536499,
          10.059765815734863,
          -5.531376361846924,
          -6.185489177703857,
          -7.033658981323242,
          -0.027461711317300797,
          7.466825485229492,
          -7.410863876342773,
          -8.1495361328125,
          -2.4979631900787354,
          -3.161198616027832,
          -3.0728776454925537,
          -2.628552198410034,
          -2.165961980819702,
          8.444005012512207,
          5.474160671234131,
          -5.3339667320251465,
          4.465300559997559,
          -0.14904914796352386,
          -9.322744369506836,
          2.294882297515869,
          -3.6050851345062256,
          10.353673934936523,
          -9.490015029907227,
          1.2690728902816772,
          -0.632861316204071,
          -8.205150604248047,
          9.642190933227539,
          -7.299069404602051,
          -1.6876122951507568,
          -0.3396904766559601,
          -7.977623462677002,
          -8.192235946655273,
          -9.02316951751709,
          -13.602333068847656,
          -8.627197265625,
          -5.459228992462158,
          -4.274902820587158,
          5.257412910461426,
          -3.7186992168426514,
          8.6072998046875,
          7.1798930168151855,
          7.891116619110107,
          -3.8024959564208984,
          6.041672229766846,
          -7.238912582397461,
          -15.188355445861816,
          -15.649465560913086,
          -12.697528839111328,
          -13.51530647277832,
          -12.369351387023926,
          9.970488548278809,
          11.342009544372559,
          7.062353134155273,
          7.913090229034424,
          8.257990837097168,
          9.633631706237793,
          11.153582572937012,
          7.3809356689453125,
          9.191524505615234,
          6.57619047164917,
          8.567033767700195,
          6.890584468841553,
          8.539306640625,
          8.7802152633667,
          -10.82613468170166,
          -14.38591480255127,
          -14.276796340942383,
          -17.011411666870117,
          -17.524349212646484,
          -16.30815315246582,
          -16.32988739013672,
          -2.255080461502075,
          -3.9486656188964844,
          -3.679586172103882,
          -16.748775482177734,
          -3.3724827766418457,
          -15.79458236694336,
          -16.657814025878906,
          -16.3865909576416,
          -17.71923065185547,
          -17.08670997619629,
          -16.91927719116211,
          -10.674701690673828,
          -11.154731750488281,
          4.140246391296387,
          -10.29383373260498,
          3.240262269973755,
          3.8936524391174316,
          4.21246862411499,
          3.8936524391174316,
          -1.4852006435394287,
          0.10697169601917267,
          -0.22598911821842194,
          -5.369226455688477,
          -1.1304808855056763,
          -4.004540920257568,
          -3.865671157836914,
          -3.413175106048584,
          13.210941314697266,
          -0.9010767340660095,
          -0.30037495493888855,
          -0.5421227812767029
         ],
         "xaxis": "x",
         "y": [
          -0.06298056244850159,
          1.3530938625335693,
          1.7331255674362183,
          -6.472839832305908,
          -7.458307266235352,
          -6.354162216186523,
          -7.084653377532959,
          1.995468258857727,
          10.944174766540527,
          10.918721199035645,
          -4.294616222381592,
          -0.8791187405586243,
          -4.3664870262146,
          13.600675582885742,
          -6.790561676025391,
          -6.7979207038879395,
          -2.9191436767578125,
          -8.112920761108398,
          -5.303191661834717,
          8.254054069519043,
          1.6068965196609497,
          1.3320287466049194,
          4.443910121917725,
          7.446602821350098,
          5.07912540435791,
          6.63415002822876,
          5.374632358551025,
          11.145186424255371,
          12.556479454040527,
          12.431512832641602,
          4.971490383148193,
          13.2039213180542,
          4.590715408325195,
          -7.506970405578613,
          -12.84375,
          -6.829111099243164,
          -11.195355415344238,
          -4.817188262939453,
          1.3717613220214844,
          -4.90583610534668,
          -9.98278522491455,
          -9.11319351196289,
          -7.678420066833496,
          -7.4360761642456055,
          -7.281832695007324,
          -7.282535552978516,
          17.12962532043457,
          -0.5366424918174744,
          -5.9020795822143555,
          -0.1609826236963272,
          2.7091572284698486,
          11.022359848022461,
          9.814349174499512,
          -9.278946876525879,
          -1.176472783088684,
          3.6810193061828613,
          0.3805675506591797,
          11.503569602966309,
          -9.489469528198242,
          -7.810909271240234,
          -9.21199893951416,
          4.842777729034424,
          6.910637855529785,
          4.734516143798828,
          -5.845931053161621,
          7.137279987335205,
          8.831472396850586,
          3.6249639987945557,
          9.977486610412598,
          4.334474563598633,
          -4.035806655883789,
          13.4370756149292,
          9.471324920654297,
          2.9919843673706055,
          5.300653457641602,
          -0.9398710131645203,
          13.21227741241455,
          3.735808849334717,
          3.8244640827178955,
          -1.384512186050415,
          4.078130722045898,
          0.03661647439002991,
          5.469816207885742,
          5.308128356933594,
          1.3783246278762817,
          -0.7985846400260925,
          6.479342460632324,
          5.832756996154785,
          5.322392463684082,
          5.977690696716309,
          -0.6897316575050354,
          7.9305572509765625,
          7.812540531158447,
          7.318639755249023,
          4.741503715515137,
          14.56131649017334,
          3.504720449447632,
          4.147031307220459,
          4.3524298667907715,
          -1.226155400276184,
          -5.999076843261719,
          -1.9431716203689575,
          -2.3493545055389404,
          -2.5347678661346436,
          3.1730239391326904,
          2.7384164333343506,
          1.7336689233779907,
          2.623706817626953,
          2.590485095977783,
          -17.233455657958984,
          -14.425021171569824,
          -17.57789421081543,
          -16.75184440612793,
          -14.361371040344238,
          -18.005111694335938,
          -0.1543121486902237,
          -0.7036294937133789,
          0.20502802729606628,
          -1.1839289665222168,
          -1.2876142263412476,
          7.429315090179443,
          -6.604212760925293,
          6.184980869293213,
          9.039942741394043,
          8.419466972351074,
          7.928215980529785,
          7.199333667755127,
          7.015097618103027,
          7.858323097229004,
          6.722546100616455,
          9.04702377319336,
          2.5035839080810547,
          7.916983604431152,
          -8.391791343688965,
          -7.08490514755249,
          -4.817924499511719,
          -9.96092414855957,
          -10.665436744689941,
          -3.593111991882324,
          -2.5452308654785156,
          -6.909325122833252,
          -8.788980484008789,
          -7.91201639175415,
          -17.101146697998047,
          -12.720832824707031,
          -14.96499252319336,
          -14.079300880432129,
          -15.004183769226074,
          -2.2393670082092285,
          -1.5727840662002563,
          -2.1494789123535156,
          11.565953254699707,
          11.616086959838867,
          10.96316146850586,
          -6.7943115234375,
          -0.08126946538686752,
          -11.293760299682617,
          2.3298683166503906,
          2.7260794639587402,
          3.053666830062866,
          -0.09708776324987411,
          -4.405750751495361,
          -4.043371677398682,
          -3.925210475921631,
          -10.826432228088379,
          -1.499159336090088,
          -1.3518402576446533,
          -11.02143383026123,
          -9.34185791015625,
          -18.15936851501465,
          -2.1361074447631836,
          -1.976711630821228,
          -8.617847442626953,
          -9.659086227416992,
          -4.531595230102539,
          -4.181951999664307,
          -8.056032180786133,
          -3.21785044670105,
          -12.160762786865234,
          7.9300312995910645,
          -12.38836669921875,
          -4.401601791381836,
          -5.645550727844238,
          -10.8485107421875,
          0.7517951726913452,
          -7.23087215423584,
          1.2052876949310303,
          -8.36630630493164,
          3.520397186279297,
          2.7404656410217285,
          -11.198336601257324,
          6.459009647369385,
          1.9509333372116089,
          4.281928539276123,
          5.1839470863342285,
          17.046342849731445,
          4.128533363342285,
          8.488306045532227,
          1.3789855241775513,
          14.99825668334961,
          -5.989871025085449,
          -10.484536170959473,
          -10.279820442199707,
          -10.186519622802734,
          -9.207390785217285,
          -9.53911018371582,
          11.987110137939453,
          14.533409118652344,
          13.686599731445312,
          13.201966285705566,
          10.416879653930664,
          13.341124534606934,
          13.509455680847168,
          11.637338638305664,
          10.852289199829102,
          9.435761451721191,
          11.530717849731445,
          12.484768867492676,
          12.121464729309082,
          12.54122257232666,
          -4.659073829650879,
          -6.674482822418213,
          -6.737146377563477,
          6.127807140350342,
          6.680463790893555,
          6.985962390899658,
          7.307754993438721,
          -18.28477668762207,
          -18.35356903076172,
          -18.919408798217773,
          -2.249433755874634,
          -17.387699127197266,
          -1.1928530931472778,
          0.21547900140285492,
          -1.4160277843475342,
          -1.1602280139923096,
          -0.4289948642253876,
          -1.161789059638977,
          -1.371172547340393,
          -0.723551332950592,
          -4.5665059089660645,
          -1.5149283409118652,
          -11.076531410217285,
          -12.24467658996582,
          -12.153314590454102,
          -12.24467658996582,
          5.774263858795166,
          3.669215440750122,
          5.653092861175537,
          0.8735870122909546,
          5.8330793380737305,
          -4.181357383728027,
          -4.443448543548584,
          -4.238993167877197,
          -1.3057780265808105,
          -17.513336181640625,
          -17.485570907592773,
          -17.422603607177734
         ],
         "yaxis": "y"
        }
       ],
       "layout": {
        "coloraxis": {
         "colorbar": {
          "title": {
           "text": "Cluster"
          }
         },
         "colorscale": [
          [
           0,
           "#0d0887"
          ],
          [
           0.1111111111111111,
           "#46039f"
          ],
          [
           0.2222222222222222,
           "#7201a8"
          ],
          [
           0.3333333333333333,
           "#9c179e"
          ],
          [
           0.4444444444444444,
           "#bd3786"
          ],
          [
           0.5555555555555556,
           "#d8576b"
          ],
          [
           0.6666666666666666,
           "#ed7953"
          ],
          [
           0.7777777777777778,
           "#fb9f3a"
          ],
          [
           0.8888888888888888,
           "#fdca26"
          ],
          [
           1,
           "#f0f921"
          ]
         ]
        },
        "height": 800,
        "legend": {
         "tracegroupgap": 0
        },
        "margin": {
         "t": 60
        },
        "plot_bgcolor": "rgb(250,250,250)",
        "template": {
         "data": {
          "bar": [
           {
            "error_x": {
             "color": "#2a3f5f"
            },
            "error_y": {
             "color": "#2a3f5f"
            },
            "marker": {
             "line": {
              "color": "#E5ECF6",
              "width": 0.5
             },
             "pattern": {
              "fillmode": "overlay",
              "size": 10,
              "solidity": 0.2
             }
            },
            "type": "bar"
           }
          ],
          "barpolar": [
           {
            "marker": {
             "line": {
              "color": "#E5ECF6",
              "width": 0.5
             },
             "pattern": {
              "fillmode": "overlay",
              "size": 10,
              "solidity": 0.2
             }
            },
            "type": "barpolar"
           }
          ],
          "carpet": [
           {
            "aaxis": {
             "endlinecolor": "#2a3f5f",
             "gridcolor": "white",
             "linecolor": "white",
             "minorgridcolor": "white",
             "startlinecolor": "#2a3f5f"
            },
            "baxis": {
             "endlinecolor": "#2a3f5f",
             "gridcolor": "white",
             "linecolor": "white",
             "minorgridcolor": "white",
             "startlinecolor": "#2a3f5f"
            },
            "type": "carpet"
           }
          ],
          "choropleth": [
           {
            "colorbar": {
             "outlinewidth": 0,
             "ticks": ""
            },
            "type": "choropleth"
           }
          ],
          "contour": [
           {
            "colorbar": {
             "outlinewidth": 0,
             "ticks": ""
            },
            "colorscale": [
             [
              0,
              "#0d0887"
             ],
             [
              0.1111111111111111,
              "#46039f"
             ],
             [
              0.2222222222222222,
              "#7201a8"
             ],
             [
              0.3333333333333333,
              "#9c179e"
             ],
             [
              0.4444444444444444,
              "#bd3786"
             ],
             [
              0.5555555555555556,
              "#d8576b"
             ],
             [
              0.6666666666666666,
              "#ed7953"
             ],
             [
              0.7777777777777778,
              "#fb9f3a"
             ],
             [
              0.8888888888888888,
              "#fdca26"
             ],
             [
              1,
              "#f0f921"
             ]
            ],
            "type": "contour"
           }
          ],
          "contourcarpet": [
           {
            "colorbar": {
             "outlinewidth": 0,
             "ticks": ""
            },
            "type": "contourcarpet"
           }
          ],
          "heatmap": [
           {
            "colorbar": {
             "outlinewidth": 0,
             "ticks": ""
            },
            "colorscale": [
             [
              0,
              "#0d0887"
             ],
             [
              0.1111111111111111,
              "#46039f"
             ],
             [
              0.2222222222222222,
              "#7201a8"
             ],
             [
              0.3333333333333333,
              "#9c179e"
             ],
             [
              0.4444444444444444,
              "#bd3786"
             ],
             [
              0.5555555555555556,
              "#d8576b"
             ],
             [
              0.6666666666666666,
              "#ed7953"
             ],
             [
              0.7777777777777778,
              "#fb9f3a"
             ],
             [
              0.8888888888888888,
              "#fdca26"
             ],
             [
              1,
              "#f0f921"
             ]
            ],
            "type": "heatmap"
           }
          ],
          "heatmapgl": [
           {
            "colorbar": {
             "outlinewidth": 0,
             "ticks": ""
            },
            "colorscale": [
             [
              0,
              "#0d0887"
             ],
             [
              0.1111111111111111,
              "#46039f"
             ],
             [
              0.2222222222222222,
              "#7201a8"
             ],
             [
              0.3333333333333333,
              "#9c179e"
             ],
             [
              0.4444444444444444,
              "#bd3786"
             ],
             [
              0.5555555555555556,
              "#d8576b"
             ],
             [
              0.6666666666666666,
              "#ed7953"
             ],
             [
              0.7777777777777778,
              "#fb9f3a"
             ],
             [
              0.8888888888888888,
              "#fdca26"
             ],
             [
              1,
              "#f0f921"
             ]
            ],
            "type": "heatmapgl"
           }
          ],
          "histogram": [
           {
            "marker": {
             "pattern": {
              "fillmode": "overlay",
              "size": 10,
              "solidity": 0.2
             }
            },
            "type": "histogram"
           }
          ],
          "histogram2d": [
           {
            "colorbar": {
             "outlinewidth": 0,
             "ticks": ""
            },
            "colorscale": [
             [
              0,
              "#0d0887"
             ],
             [
              0.1111111111111111,
              "#46039f"
             ],
             [
              0.2222222222222222,
              "#7201a8"
             ],
             [
              0.3333333333333333,
              "#9c179e"
             ],
             [
              0.4444444444444444,
              "#bd3786"
             ],
             [
              0.5555555555555556,
              "#d8576b"
             ],
             [
              0.6666666666666666,
              "#ed7953"
             ],
             [
              0.7777777777777778,
              "#fb9f3a"
             ],
             [
              0.8888888888888888,
              "#fdca26"
             ],
             [
              1,
              "#f0f921"
             ]
            ],
            "type": "histogram2d"
           }
          ],
          "histogram2dcontour": [
           {
            "colorbar": {
             "outlinewidth": 0,
             "ticks": ""
            },
            "colorscale": [
             [
              0,
              "#0d0887"
             ],
             [
              0.1111111111111111,
              "#46039f"
             ],
             [
              0.2222222222222222,
              "#7201a8"
             ],
             [
              0.3333333333333333,
              "#9c179e"
             ],
             [
              0.4444444444444444,
              "#bd3786"
             ],
             [
              0.5555555555555556,
              "#d8576b"
             ],
             [
              0.6666666666666666,
              "#ed7953"
             ],
             [
              0.7777777777777778,
              "#fb9f3a"
             ],
             [
              0.8888888888888888,
              "#fdca26"
             ],
             [
              1,
              "#f0f921"
             ]
            ],
            "type": "histogram2dcontour"
           }
          ],
          "mesh3d": [
           {
            "colorbar": {
             "outlinewidth": 0,
             "ticks": ""
            },
            "type": "mesh3d"
           }
          ],
          "parcoords": [
           {
            "line": {
             "colorbar": {
              "outlinewidth": 0,
              "ticks": ""
             }
            },
            "type": "parcoords"
           }
          ],
          "pie": [
           {
            "automargin": true,
            "type": "pie"
           }
          ],
          "scatter": [
           {
            "fillpattern": {
             "fillmode": "overlay",
             "size": 10,
             "solidity": 0.2
            },
            "type": "scatter"
           }
          ],
          "scatter3d": [
           {
            "line": {
             "colorbar": {
              "outlinewidth": 0,
              "ticks": ""
             }
            },
            "marker": {
             "colorbar": {
              "outlinewidth": 0,
              "ticks": ""
             }
            },
            "type": "scatter3d"
           }
          ],
          "scattercarpet": [
           {
            "marker": {
             "colorbar": {
              "outlinewidth": 0,
              "ticks": ""
             }
            },
            "type": "scattercarpet"
           }
          ],
          "scattergeo": [
           {
            "marker": {
             "colorbar": {
              "outlinewidth": 0,
              "ticks": ""
             }
            },
            "type": "scattergeo"
           }
          ],
          "scattergl": [
           {
            "marker": {
             "colorbar": {
              "outlinewidth": 0,
              "ticks": ""
             }
            },
            "type": "scattergl"
           }
          ],
          "scattermapbox": [
           {
            "marker": {
             "colorbar": {
              "outlinewidth": 0,
              "ticks": ""
             }
            },
            "type": "scattermapbox"
           }
          ],
          "scatterpolar": [
           {
            "marker": {
             "colorbar": {
              "outlinewidth": 0,
              "ticks": ""
             }
            },
            "type": "scatterpolar"
           }
          ],
          "scatterpolargl": [
           {
            "marker": {
             "colorbar": {
              "outlinewidth": 0,
              "ticks": ""
             }
            },
            "type": "scatterpolargl"
           }
          ],
          "scatterternary": [
           {
            "marker": {
             "colorbar": {
              "outlinewidth": 0,
              "ticks": ""
             }
            },
            "type": "scatterternary"
           }
          ],
          "surface": [
           {
            "colorbar": {
             "outlinewidth": 0,
             "ticks": ""
            },
            "colorscale": [
             [
              0,
              "#0d0887"
             ],
             [
              0.1111111111111111,
              "#46039f"
             ],
             [
              0.2222222222222222,
              "#7201a8"
             ],
             [
              0.3333333333333333,
              "#9c179e"
             ],
             [
              0.4444444444444444,
              "#bd3786"
             ],
             [
              0.5555555555555556,
              "#d8576b"
             ],
             [
              0.6666666666666666,
              "#ed7953"
             ],
             [
              0.7777777777777778,
              "#fb9f3a"
             ],
             [
              0.8888888888888888,
              "#fdca26"
             ],
             [
              1,
              "#f0f921"
             ]
            ],
            "type": "surface"
           }
          ],
          "table": [
           {
            "cells": {
             "fill": {
              "color": "#EBF0F8"
             },
             "line": {
              "color": "white"
             }
            },
            "header": {
             "fill": {
              "color": "#C8D4E3"
             },
             "line": {
              "color": "white"
             }
            },
            "type": "table"
           }
          ]
         },
         "layout": {
          "annotationdefaults": {
           "arrowcolor": "#2a3f5f",
           "arrowhead": 0,
           "arrowwidth": 1
          },
          "autotypenumbers": "strict",
          "coloraxis": {
           "colorbar": {
            "outlinewidth": 0,
            "ticks": ""
           }
          },
          "colorscale": {
           "diverging": [
            [
             0,
             "#8e0152"
            ],
            [
             0.1,
             "#c51b7d"
            ],
            [
             0.2,
             "#de77ae"
            ],
            [
             0.3,
             "#f1b6da"
            ],
            [
             0.4,
             "#fde0ef"
            ],
            [
             0.5,
             "#f7f7f7"
            ],
            [
             0.6,
             "#e6f5d0"
            ],
            [
             0.7,
             "#b8e186"
            ],
            [
             0.8,
             "#7fbc41"
            ],
            [
             0.9,
             "#4d9221"
            ],
            [
             1,
             "#276419"
            ]
           ],
           "sequential": [
            [
             0,
             "#0d0887"
            ],
            [
             0.1111111111111111,
             "#46039f"
            ],
            [
             0.2222222222222222,
             "#7201a8"
            ],
            [
             0.3333333333333333,
             "#9c179e"
            ],
            [
             0.4444444444444444,
             "#bd3786"
            ],
            [
             0.5555555555555556,
             "#d8576b"
            ],
            [
             0.6666666666666666,
             "#ed7953"
            ],
            [
             0.7777777777777778,
             "#fb9f3a"
            ],
            [
             0.8888888888888888,
             "#fdca26"
            ],
            [
             1,
             "#f0f921"
            ]
           ],
           "sequentialminus": [
            [
             0,
             "#0d0887"
            ],
            [
             0.1111111111111111,
             "#46039f"
            ],
            [
             0.2222222222222222,
             "#7201a8"
            ],
            [
             0.3333333333333333,
             "#9c179e"
            ],
            [
             0.4444444444444444,
             "#bd3786"
            ],
            [
             0.5555555555555556,
             "#d8576b"
            ],
            [
             0.6666666666666666,
             "#ed7953"
            ],
            [
             0.7777777777777778,
             "#fb9f3a"
            ],
            [
             0.8888888888888888,
             "#fdca26"
            ],
            [
             1,
             "#f0f921"
            ]
           ]
          },
          "colorway": [
           "#636efa",
           "#EF553B",
           "#00cc96",
           "#ab63fa",
           "#FFA15A",
           "#19d3f3",
           "#FF6692",
           "#B6E880",
           "#FF97FF",
           "#FECB52"
          ],
          "font": {
           "color": "#2a3f5f"
          },
          "geo": {
           "bgcolor": "white",
           "lakecolor": "white",
           "landcolor": "#E5ECF6",
           "showlakes": true,
           "showland": true,
           "subunitcolor": "white"
          },
          "hoverlabel": {
           "align": "left"
          },
          "hovermode": "closest",
          "mapbox": {
           "style": "light"
          },
          "paper_bgcolor": "white",
          "plot_bgcolor": "#E5ECF6",
          "polar": {
           "angularaxis": {
            "gridcolor": "white",
            "linecolor": "white",
            "ticks": ""
           },
           "bgcolor": "#E5ECF6",
           "radialaxis": {
            "gridcolor": "white",
            "linecolor": "white",
            "ticks": ""
           }
          },
          "scene": {
           "xaxis": {
            "backgroundcolor": "#E5ECF6",
            "gridcolor": "white",
            "gridwidth": 2,
            "linecolor": "white",
            "showbackground": true,
            "ticks": "",
            "zerolinecolor": "white"
           },
           "yaxis": {
            "backgroundcolor": "#E5ECF6",
            "gridcolor": "white",
            "gridwidth": 2,
            "linecolor": "white",
            "showbackground": true,
            "ticks": "",
            "zerolinecolor": "white"
           },
           "zaxis": {
            "backgroundcolor": "#E5ECF6",
            "gridcolor": "white",
            "gridwidth": 2,
            "linecolor": "white",
            "showbackground": true,
            "ticks": "",
            "zerolinecolor": "white"
           }
          },
          "shapedefaults": {
           "line": {
            "color": "#2a3f5f"
           }
          },
          "ternary": {
           "aaxis": {
            "gridcolor": "white",
            "linecolor": "white",
            "ticks": ""
           },
           "baxis": {
            "gridcolor": "white",
            "linecolor": "white",
            "ticks": ""
           },
           "bgcolor": "#E5ECF6",
           "caxis": {
            "gridcolor": "white",
            "linecolor": "white",
            "ticks": ""
           }
          },
          "title": {
           "x": 0.05
          },
          "xaxis": {
           "automargin": true,
           "gridcolor": "white",
           "linecolor": "white",
           "ticks": "",
           "title": {
            "standoff": 15
           },
           "zerolinecolor": "white",
           "zerolinewidth": 2
          },
          "yaxis": {
           "automargin": true,
           "gridcolor": "white",
           "linecolor": "white",
           "ticks": "",
           "title": {
            "standoff": 15
           },
           "zerolinecolor": "white",
           "zerolinewidth": 2
          }
         }
        },
        "title": {
         "text": "Interactive t-SNE Visualization of Bookmark Clusters"
        },
        "width": 1000,
        "xaxis": {
         "anchor": "y",
         "domain": [
          0,
          1
         ],
         "title": {
          "text": "t-SNE1"
         }
        },
        "yaxis": {
         "anchor": "x",
         "domain": [
          0,
          1
         ],
         "title": {
          "text": "t-SNE2"
         }
        }
       }
      },
      "text/html": [
       "<div>                            <div id=\"5b1dce70-5d5f-4a14-9c06-6b9633147fce\" class=\"plotly-graph-div\" style=\"height:800px; width:1000px;\"></div>            <script type=\"text/javascript\">                require([\"plotly\"], function(Plotly) {                    window.PLOTLYENV=window.PLOTLYENV || {};                                    if (document.getElementById(\"5b1dce70-5d5f-4a14-9c06-6b9633147fce\")) {                    Plotly.newPlot(                        \"5b1dce70-5d5f-4a14-9c06-6b9633147fce\",                        [{\"customdata\":[[\"Debugging - Runtime \\u002f this-firefox\"],[\"Get Help\"],[\"Customize Firefox\"],[\"Get Involved\"],[\"About Us\"],[\"Volunteer Opportunities at Mozilla \\u2014 Mozilla\"],[\"scikit-learn-contrib\\u002fhdbscan: A high performance implementation of HDBSCAN clustering.\"],[\"januff\\u002fspotify-liked-songs-export: A Spotify Authorization Code flow using Remix and StepZen.\"],[\"macOS support \\u00b7 Issue #22 \\u00b7 ufal\\u002fwhisper_streaming\"],[\"Windows and Mac support \\u00b7 Issue #5 \\u00b7 mingruimingrui\\u002ffast-mosestokenizer\"],[\"GitHub Accelerator\"],[\"OSINT Framework\"],[\"cheetz (Peter Kim)\"],[\"Russian cuisine - Wikipedia\"],[\"Operation Sea-Spray - Wikipedia\"],[\"Phoenix Program - Wikipedia\"],[\"World Bank - Wikipedia\"],[\"Modern Hopfield network - Wikipedia\"],[\"Announcing WIT: A Wikipedia-Based Image-Text Dataset\"],[\"YouTube\"],[\"Ultimate Tailwind CSS Tutorial \\u002f\\u002f Build a Discord-inspired Animated Navbar - YouTube\"],[\"Install daisyUI as a Tailwind CSS plugin \\u2014 Tailwind CSS Components ( version 4 update is here )\"],[\"All Categories - Twitch\"],[\"https:\\u002f\\u002fwww.whereareyoutube.com\\u002f\"],[\"Imagine Dragons - Dream (Jorgen Odegard Remix) - YouTube\"],[\"Untitled Bookmark\"],[\"Dropout - Independent, ad-free, uncensored comedy | Dropout\"],[\"breadchris\"],[\"Roasted Tomato and White Bean Stew Recipe\"],[\"Vanilla Soy Ice Cream Recipe - Food.com\"],[\"Fastly error: unknown domain uk.businessinsider.com\"],[\"GLUTEN FREE MUSEUM\"],[\"Domain Acquisition Service: Buy Registered Domains | eNaming\"],[\"The No-Justice Catalog - Google Drive\"],[\"RunPod - The Cloud Built for AI\"],[\"Google Cloud Next\"],[\"Meet AI\\u2019s multitool: Vector embeddings | Google Cloud Blog\"],[\"Tim Cannon's Homepage - Teaching 'Innovations'\"],[\"Gemini\"],[\"APIs & Services \\u2013 Google Maps Platform \\u2013 My First Project \\u2013 Google Cloud console\"],[\"Google Messages for web\"],[\"Cloud Computing Services - Amazon Web Services (AWS)\"],[\"Training - Google Drive\"],[\"Freedom of Information Act Electronic Reading Room | CIA FOIA (foia.cia.gov)\"],[\"MR Online\"],[\"The CIA & the Frankfurt school\\u2019s anti-communism | MR Online\"],[\"\\u0418\\u0437\\u0432\\u0435\\u0441\\u0442\\u0438\\u044f \\u2013 \\u043d\\u043e\\u0432\\u043e\\u0441\\u0442\\u0438 \\u043f\\u043e\\u043b\\u0438\\u0442\\u0438\\u043a\\u0438, \\u044d\\u043a\\u043e\\u043d\\u043e\\u043c\\u0438\\u043a\\u0438, \\u0441\\u043f\\u043e\\u0440\\u0442\\u0430, \\u043a\\u0443\\u043b\\u044c\\u0442\\u0443\\u0440\\u044b | IZ.RU\"],[\"Subscribe | The New Yorker\"],[\"\\ud83d\\udcdc \\u279c Megathread\"],[\"538 \\u2014 Election Polls, Politics, and Analysis - ABC News\"],[\"Exploding Topics - Discover the hottest new trends.\"],[\"http:\\u002f\\u002fwww.whatthefuckhasobamadonesofar.com\\u002f\"],[\"https:\\u002f\\u002ftweeterino.com\\u002frealDonaldTrump\"],[\"the tiny corp raised $5.1M | the singularity is nearer\"],[\"Blog - Austin Z. Henley\"],[\"1500+ Best Website Templates (HTML & CSS) 2024 - Colorlib\"],[\"http:\\u002f\\u002fretdec.hostbin.org\\u002findex.html\"],[\"Hyperbole and a Half: The Alot is Better Than You at Everything\"],[\"Latent Space | swyx & Alessio | Substack\"],[\"Whisper JAX - a Hugging Face Space by sanchit-gandhi\"],[\"sentence-transformers\\u002fall-mpnet-base-v2 \\u00b7 Hugging Face\"],[\"\\u2018It was an accident\\u2019: the scientists who have turned humid air into renewable power | Science | The\"],[\"Science and Math News | Quanta Magazine\"],[\"Science Hub\"],[\"Linear Algebra\\u2014A Primer || Math \\u2229 Programming\"],[\"People Literally Don't Know When to Shut Up--or Keep Talking--Science Confirms | Scientific American\"],[\"Mental Illness Is Not in Your Head - Boston Review\"],[\"9789241596169_eng.pdf\"],[\"Life After Epic\"],[\"Half of US population exposed to adverse lead levels in early childhood | PNAS\"],[\"links and such \\u2013 books are life\"],[\"PT: 20 Best Psychology Books to Read in 2020 : r\\u002fPsychologicalTricks\"],[\"Homepage | BPS\"],[\"DOTEXE\"],[\"Bandcamp\"],[\"https:\\u002f\\u002fevent.crowdcompass.com\\u002fugm2022\\u002fschedule-items?date=2022-08-21\"],[\"Best albums of 2022 - Rate Your Music\"],[\"Play Guardians of the Galaxy Vol. 2 (Original Score) by Tyler Bates on Amazon Music\"],[\"Amazon Music Unlimited | Stream 100 Million Songs & Podcasts\"],[\"DBOS | A Database-Oriented Operating System\"],[\"CS:GO: From Zero to 0-day \\u2014 Neodyme\"],[\"Best Online Cybersecurity Courses & Certifications | HTB Academy\"],[\"The Daily Swig | Cybersecurity news and views\"],[\"Updates \\u2013 Secure Planet\"],[\"Exploit Database - Exploits for Penetration Testers, Researchers, and Ethical Hackers\"],[\"OverTheWire: Wargames\"],[\"Essentials \\u2013 Kith\"],[\"Mens Clothes & Unisex Clothes | Shop Online Fashion \\u2013 HOOOYI\"],[\"Graphic Tees, Cool T Shirt Designs For Men And Women - DesignByHumans\"],[\"Ugmonk\"],[\"https:\\u002f\\u002f45.79.25.185\\u002f_\\u002f#\\u002fcollections?collectionId=_pb_users_auth_&filter=&sort=-created\"],[\"Dark Seas Division\"],[\"All \\u2013 MSFTSrep\"],[\"Kith\"],[\"Men's Gilly Hicks Sherpa Quarter-Zip | Men's Clearance | HollisterCo.com\"],[\"another example of unrealistic body expectations for men - Imgur\"],[\"The Ultimate Guide to Men's Hair Products (Every Type Explained) \\u2013 Beardbrand\"],[\"A Short Guide to Fall Sweaters : r\\u002fmalefashionadvice\"],[\"JustWatch - The Streaming Guide\"],[\"Notes - Daniel Imfeld\"],[\"[2109.02124] The Koha Code: A Biological Theory of Memory\"],[\"CodePen: Online Code Editor and Front End Web Developer Community\"],[\"Fireship - Learn to Code Faster\"],[\"Features | Cursor - The AI-first Code Editor\"],[\"Login | HeadshotPro\"],[\"Log In \\u2014 WordPress.com\"],[\"Login \\u2013 Vercel\"],[\"Online Banking Log In\"],[\"Sign In | Pocket Prep\"],[\"1, 2 & 3 Bedroom Apartments in Madison, WI | Preserve West\"],[\"Home - Hometown Property Management, LLC\"],[\"5934 Seminole Ct #1| Residential | Madison Property Management, Inc.\"],[\"Madison Area Listings | Madison Property Management, Inc\"],[\"McBride Companies | McBride Companies LLC\"],[\"404 Page Not Found\"],[\"http:\\u002f\\u002flocalhost:5173\\u002f\"],[\"Welcome to nginx!\"],[\"http:\\u002f\\u002fdev.thi.ng\\u002fgradients\\u002f\"],[\"404 Not Found\"],[\"404 Not Found\"],[\"500 Internal Server Error\"],[\"Error page :(\"],[\"Loreteller\"],[\"Roland FP-30X Digital Piano with Speakers Home Bundle- Black | Sweetwater\"],[\"Graphtoy\"],[\"D3 by Observable | The JavaScript library for bespoke data visualization\"],[\"Quiver Quantitative\"],[\"Mash Radar - Etsy\"],[\"ArtStation - Garden\"],[\"Library | johnaugust.com\"],[\"Humble Bundle - Key already claimed\"],[\"Spurious Correlations\"],[\"Sketchpad - Draw, Create, Share!\"],[\"Learn | Pinecone\"],[\"Chat with Open Large Language Models\"],[\"Translations: | BabyAGI\"],[\"TensorFlow Recommenders\"],[\"Find Pre-trained Models | Kaggle\"],[\"Banana - GPUs For Inference\"],[\"AutoGPT Documentation\"],[\"AutoGPT Official\"],[\"AlphaCode\"],[\"Machine Learning is Fun!\"],[\"SDWORKS - Helping Individuals Reach Employment\"],[\"https:\\u002f\\u002fwww.intelligencecareers.gov\\u002fic_jet2.html\"],[\"Careers | Bedford Industries\"],[\"My Job Search\"],[\"ann arbor internships\"],[\"Client-side component API \\u2022 Docs \\u2022 Svelte\"],[\"Jamstack Conf\"],[\"Transitions \\u002f Deferred transitions \\u2022 Svelte Tutorial\"],[\"The best deals in the 2022 Steam Winter Sale | PC Gamer\"],[\"The top 100 PC games | PC Gamer\"],[\"IsThereAnyDeal\"],[\"Search\"],[\"Shodan Search Engine\"],[\"https:\\u002f\\u002fwww.veromi.net\\u002flander\"],[\"Kali Linux Revealed (KLR\\u002fPEN-103) | Mastering the Penetest Distribution\"],[\"Basic Linux Privilege Escalation - g0tmi1k\"],[\"Windows Privilege Escalation Guide\"],[\"Debugging - Setup\"],[\"LPT: How to get more out of Google - Imgur\"],[\"Flexfit - V-Flex Twill Cap - CVF038 | Custom Image Wear | Phelps\"],[\"Scrapy | A Fast and Powerful Scraping and Web Crawling Framework\"],[\"Ohma World\"],[\"Remote Jobs in Programming, Design, Sales and more #OpenSalaries\"],[\"PNPT: Certification Review - Black Hills Information Security\"],[\"Reddit - Dive into anything\"],[\"Rat Race Rebellion - Real Work from Home Jobs Since 1999\"],[\"211 South Franklin Street #1 Lease.pdf\"],[\"Svelte Recipes: World Map\"],[\"How to Get Unbanned from Overwatch 2 in 2024 - Unbanster\"],[\"River Nice LinkTree\"],[\"https:\\u002f\\u002fwww.enyxo.com\\u002ftrial\\u002f\"],[\"SerpApi: Google Search API\"],[\"public-apis\\u002fpublic-apis: A collective list of free APIs\"],[\"Concept2 rowing machine at DuckDuckGo\"],[\"Agent-OM: Leveraging LLM Agents for Ontology Matching - 2312.00326v2.pdf\"],[\"10 Noteworthy AI Research Papers of 2023\"],[\"3D Gaussian Splatting for Real-Time Radiance Field Rendering\"],[\"Mandelbrot and Julia set \\u2013 MATIGEKUNSTINTELLIGENTIE\"],[\"The Python Scrapy Playbook | The Python Scrapy Playbook\"],[\"Bible Reading and Study Plans | Biblical Christianity\"],[\"Taskade \\u2014 AI-Powered Productivity, Your Second Brain.\"],[\"APT vs APT-GET: What's the Difference?\"],[\"Slack\"],[\"StackShare - Tech Stack Intelligence\"],[\"UnityTechnologies\\u002fMachineLearningRoguelike: A small Roguelike game that uses Machine Learning to pow\"],[\"Microsoft Forms\"],[\"US Accidents (2016 - 2023)\"],[\"Weights & Biases For Fans Of Two Minute Papers\"],[\"Sponsors | Oregon Cyber Security | Cyber Oregon\"],[\"Welcome [Root Me : Hacking and Information Security learning platform]\"],[\"CheckUsernames - Social Media Username Search by KnowEm\"],[\"Bypassing CSP using polyglot JPEGs | PortSwigger Research\"],[\"This is How You Died | The Order of the Good Death\"],[\"https:\\u002f\\u002fruneforge.gg\\u002f\"],[\"Reddit - https:\\u002f\\u002fi.redd.it\\u002flxlir08l5fpz.png\"],[\"Manta1131 \\ud83c\\udf2e Situs Slot Gacor Terpercaya Jackpot Maxwin di Tangan\"],[\"Drowning in Problems\"],[\"Pyodide \\u2014 Version 0.26.0\"],[\"Jina CLIP v1: A Truly Multimodal Embeddings Model for Text and Image\"],[\"jinaai\\u002fjina-clip-v1 \\u00b7 Hugging Face\"],[\"Embedding API\"],[\"[2405.20204] Jina CLIP: Your CLIP Model Is Also Your Text Retriever\"],[\"Jina AI - Your Search Foundation, Supercharged.\"],[\"The 25 Best Two-Line Jokes Ever - Funny post - Imgur\"],[\"doggo inspo (dogspo) - Imgur\"],[\"How I feel when playing a Shooter - Imgur\"],[\"When our parents told us - Imgur\"],[\"Anon attends a party - Imgur\"],[\"23 Worst\\u002fMost unfortunate ad placements - Imgur\"],[\"To be a good dog I must use math - GIF - Imgur\"],[\"Orange Hitler vs Grandma Nixon - Imgur\"],[\"Have a Drink ! - Eat What You Want post - Imgur\"],[\"Battlefield 1 Wallpapers - battlefield post - Imgur\"],[\"- GIF - Imgur\"],[\"When you become a smart trolls personal enemy - Imgur\"],[\"Imgur: The magic of the Internet\"],[\"Imgur: The magic of the Internet\"],[\"Using ChatGPT to clean scraped data, and how to handle any big document with ChatGPT - LunaBrain\"],[\"ChatGPT\"],[\"ChatGPT\"],[\"Scientists complete first map of an insect brain | Hub\"],[\"Journal of Neuroscience\"],[\"This Protein Could Boost Brain Function without Exercise | Scientific American\"],[\"Mind & Brain | Scientific American\"],[\"Home - RA Benefits\"],[\"Dakota State University Team Site - Home\"],[\"DEPT - Residence Life\"],[\"Home\"],[\"Oops! - Dakota State University\"],[\"Page not found | CSE Research Experience for Undergraduates | Washington University in St. Louis\"],[\"REU: Big Data Analytics at Oklahoma State University\"],[\"http:\\u002f\\u002freu.cs.wright.edu\\u002fprojects.html\"],[\"DIMACS REU: Research Experience for Undergraduates\"],[\"REU Program | Worcester Polytechnic Institute\"],[\"SRCA-REU - Research Projects\"],[\"API Reference - OpenAI API\"],[\"OpenAI Platform\"],[\"WebGL Overlay (native API) \\u00a0|\\u00a0 Maps JavaScript API \\u00a0|\\u00a0 Google for Developers\"],[\"Overview - OpenAI API\"],[\"Inbox (2,919) - timgsereda@gmail.com - Gmail\"],[\"Mail - Sereda, Timothy - Outlook\"],[\"Mail - Timothy Sereda - Outlook\"],[\"Mail - Sereda, Timothy - Outlook\"],[\"Unity Cheat Sheet\"],[\"HTML Cheat Sheet \\ud83d\\udcc3 - The Best Interactive Cheat Sheet\"],[\"524924d9-tft-set-7-cheat-sheet.png (PNG Image, 3000\\u00a0\\u00d7\\u00a01850 pixels) \\u2014 Scaled (50%)\"],[\"Metasploit cheat sheet | Infosec\"],[\"Factorio v0.14 Cheat Sheets - Imgur\"],[\"Creating a gird system in Unity2D : r\\u002fUnity2D\"],[\"[Tutorial] Making a Grid with a 2D Array - Unity Forum\"],[\"How to move an object with the mouse in Unity (2D) - Game Dev Beginner\"],[\"https:\\u002f\\u002fpf.millennialsd.com\\u002f2017\\u002f09\\u002f26\\u002fresolved-the-united-states-should-require-universal-backgroun\"],[\"Sanford Careers - Linux Server Administrator in Sioux Falls, South Dakota, United States\"],[\"Sanford Careers - Unified Communications Technician - IT - Sioux Falls in Sioux Falls, South Dakota,\"],[\"Sanford Careers - Applications Support Technician in Sioux Falls, South Dakota, United States\"]],\"hovertemplate\":\"t-SNE1=%{x}\\u003cbr\\u003et-SNE2=%{y}\\u003cbr\\u003eTitle=%{customdata[0]}\\u003cbr\\u003eCluster=%{marker.color}\\u003cextra\\u003e\\u003c\\u002fextra\\u003e\",\"legendgroup\":\"\",\"marker\":{\"color\":[0,0,0,0,-1,0,0,-1,-1,0,0,0,0,0,-1,0,-1,0,-1,-1,0,0,0,0,-1,0,0,0,0,0,-1,-1,0,0,0,-1,0,0,-1,0,0,0,0,-1,0,0,-1,-1,0,-1,0,0,0,-1,0,0,0,0,0,0,0,-1,-1,-1,-1,-1,0,-1,0,-1,0,-1,-1,0,0,0,-1,-1,0,0,0,0,0,0,0,0,0,0,0,0,0,0,0,0,0,0,-1,0,0,-1,-1,0,0,0,0,0,0,0,0,1,1,1,1,1,1,0,0,0,0,-1,0,0,0,-1,0,0,-1,0,0,-1,0,-1,0,0,0,0,0,0,0,0,0,0,0,0,-1,0,0,0,0,0,0,0,0,0,0,0,-1,0,0,0,0,0,0,0,0,0,0,0,0,1,0,-1,-1,0,0,0,0,0,0,0,0,0,-1,0,-1,0,0,0,-1,0,0,0,0,0,0,-1,0,0,0,-1,0,0,0,0,0,0,0,0,0,0,0,0,0,0,0,0,0,0,0,0,0,0,0,0,0,0,0,0,0,0,0,0,0,0,0,0,0,0,0,0,0,0,0,0,0,0,0,0,0,0,0,0,0,0,0,0,0,0],\"coloraxis\":\"coloraxis\",\"symbol\":\"circle\"},\"mode\":\"markers\",\"name\":\"\",\"orientation\":\"v\",\"showlegend\":false,\"x\":[0.11155339330434799,0.920906662940979,0.13755911588668823,1.6876235008239746,2.443162441253662,1.6338441371917725,-8.058389663696289,10.654545783996582,-9.97776985168457,-9.97527027130127,-0.055843185633420944,-8.868523597717285,1.2782591581344604,2.3778364658355713,16.485849380493164,16.419574737548828,13.695174217224121,-12.189519882202148,-12.794042587280273,8.990808486938477,7.130028247833252,6.931272029876709,7.798066139221191,11.447037696838379,12.353858947753906,10.447879791259766,9.21782398223877,3.094651222229004,2.3506579399108887,2.271517276763916,2.630887508392334,3.8329694271087646,2.6854584217071533,6.829440116882324,-12.000388145446777,5.227277755737305,-13.643725395202637,6.8879289627075195,-9.539063453674316,3.875025510787964,2.5445144176483154,6.56321907043457,6.449750900268555,10.527164459228516,13.464364051818848,13.473677635192871,4.492022514343262,14.956847190856934,-1.4163213968276978,14.661628723144531,-12.791878700256348,12.204136848449707,12.587579727172852,-6.211446285247803,1.4163734912872314,0.275201678276062,-7.366587162017822,11.209773063659668,-8.620368957519531,-15.083383560180664,-15.719010353088379,-12.109240531921387,-9.352587699890137,-17.442628860473633,-3.8554773330688477,-14.920334815979004,-15.485369682312012,-18.244361877441406,-3.013171672821045,-16.2941837310791,10.213153839111328,-6.876276969909668,-15.34146785736084,-2.396134376525879,10.625786781311035,11.064848899841309,-2.162447929382324,11.673613548278809,10.949685096740723,-7.72914457321167,-4.606055736541748,-4.57784366607666,-6.263891220092773,-5.786888122558594,-5.786651611328125,-4.914398670196533,17.07314109802246,16.414148330688477,16.703670501708984,17.671363830566406,11.338091850280762,18.271055221557617,16.692777633666992,17.27515983581543,19.00749397277832,9.113849639892578,16.927772521972656,17.888999938964844,9.274205207824707,-0.5814507603645325,-17.29903793334961,1.592563509941101,1.8081029653549194,0.49251094460487366,3.540647029876709,3.6211564540863037,3.193598747253418,4.690443515777588,-3.4463233947753906,7.2504072189331055,8.683768272399902,7.681906700134277,7.277811050415039,8.682104110717773,6.407546520233154,2.4509761333465576,5.4088134765625,4.1202802658081055,6.775137901306152,8.042455673217773,10.073522567749023,-5.970162391662598,5.34214973449707,-1.3347331285476685,2.3885257244110107,1.6633235216140747,-9.05475902557373,15.232416152954102,4.747568130493164,6.971200466156006,-2.6539206504821777,-14.499837875366211,4.1892876625061035,-10.123839378356934,-0.6490851044654846,-0.7899281978607178,-10.547117233276367,-11.372092247009277,-0.8212426900863647,-11.710845947265625,-11.428861618041992,-11.37333869934082,-9.682265281677246,-2.3063886165618896,-3.876877784729004,-2.516944646835327,-2.9772844314575195,-3.771857261657715,4.80037260055542,2.931713581085205,4.340750694274902,-3.9455888271331787,-3.5880465507507324,-4.850438594818115,-9.644143104553223,-6.05670690536499,10.059765815734863,-5.531376361846924,-6.185489177703857,-7.033658981323242,-0.027461711317300797,7.466825485229492,-7.410863876342773,-8.1495361328125,-2.4979631900787354,-3.161198616027832,-3.0728776454925537,-2.628552198410034,-2.165961980819702,8.444005012512207,5.474160671234131,-5.3339667320251465,4.465300559997559,-0.14904914796352386,-9.322744369506836,2.294882297515869,-3.6050851345062256,10.353673934936523,-9.490015029907227,1.2690728902816772,-0.632861316204071,-8.205150604248047,9.642190933227539,-7.299069404602051,-1.6876122951507568,-0.3396904766559601,-7.977623462677002,-8.192235946655273,-9.02316951751709,-13.602333068847656,-8.627197265625,-5.459228992462158,-4.274902820587158,5.257412910461426,-3.7186992168426514,8.6072998046875,7.1798930168151855,7.891116619110107,-3.8024959564208984,6.041672229766846,-7.238912582397461,-15.188355445861816,-15.649465560913086,-12.697528839111328,-13.51530647277832,-12.369351387023926,9.970488548278809,11.342009544372559,7.062353134155273,7.913090229034424,8.257990837097168,9.633631706237793,11.153582572937012,7.3809356689453125,9.191524505615234,6.57619047164917,8.567033767700195,6.890584468841553,8.539306640625,8.7802152633667,-10.82613468170166,-14.38591480255127,-14.276796340942383,-17.011411666870117,-17.524349212646484,-16.30815315246582,-16.32988739013672,-2.255080461502075,-3.9486656188964844,-3.679586172103882,-16.748775482177734,-3.3724827766418457,-15.79458236694336,-16.657814025878906,-16.3865909576416,-17.71923065185547,-17.08670997619629,-16.91927719116211,-10.674701690673828,-11.154731750488281,4.140246391296387,-10.29383373260498,3.240262269973755,3.8936524391174316,4.21246862411499,3.8936524391174316,-1.4852006435394287,0.10697169601917267,-0.22598911821842194,-5.369226455688477,-1.1304808855056763,-4.004540920257568,-3.865671157836914,-3.413175106048584,13.210941314697266,-0.9010767340660095,-0.30037495493888855,-0.5421227812767029],\"xaxis\":\"x\",\"y\":[-0.06298056244850159,1.3530938625335693,1.7331255674362183,-6.472839832305908,-7.458307266235352,-6.354162216186523,-7.084653377532959,1.995468258857727,10.944174766540527,10.918721199035645,-4.294616222381592,-0.8791187405586243,-4.3664870262146,13.600675582885742,-6.790561676025391,-6.7979207038879395,-2.9191436767578125,-8.112920761108398,-5.303191661834717,8.254054069519043,1.6068965196609497,1.3320287466049194,4.443910121917725,7.446602821350098,5.07912540435791,6.63415002822876,5.374632358551025,11.145186424255371,12.556479454040527,12.431512832641602,4.971490383148193,13.2039213180542,4.590715408325195,-7.506970405578613,-12.84375,-6.829111099243164,-11.195355415344238,-4.817188262939453,1.3717613220214844,-4.90583610534668,-9.98278522491455,-9.11319351196289,-7.678420066833496,-7.4360761642456055,-7.281832695007324,-7.282535552978516,17.12962532043457,-0.5366424918174744,-5.9020795822143555,-0.1609826236963272,2.7091572284698486,11.022359848022461,9.814349174499512,-9.278946876525879,-1.176472783088684,3.6810193061828613,0.3805675506591797,11.503569602966309,-9.489469528198242,-7.810909271240234,-9.21199893951416,4.842777729034424,6.910637855529785,4.734516143798828,-5.845931053161621,7.137279987335205,8.831472396850586,3.6249639987945557,9.977486610412598,4.334474563598633,-4.035806655883789,13.4370756149292,9.471324920654297,2.9919843673706055,5.300653457641602,-0.9398710131645203,13.21227741241455,3.735808849334717,3.8244640827178955,-1.384512186050415,4.078130722045898,0.03661647439002991,5.469816207885742,5.308128356933594,1.3783246278762817,-0.7985846400260925,6.479342460632324,5.832756996154785,5.322392463684082,5.977690696716309,-0.6897316575050354,7.9305572509765625,7.812540531158447,7.318639755249023,4.741503715515137,14.56131649017334,3.504720449447632,4.147031307220459,4.3524298667907715,-1.226155400276184,-5.999076843261719,-1.9431716203689575,-2.3493545055389404,-2.5347678661346436,3.1730239391326904,2.7384164333343506,1.7336689233779907,2.623706817626953,2.590485095977783,-17.233455657958984,-14.425021171569824,-17.57789421081543,-16.75184440612793,-14.361371040344238,-18.005111694335938,-0.1543121486902237,-0.7036294937133789,0.20502802729606628,-1.1839289665222168,-1.2876142263412476,7.429315090179443,-6.604212760925293,6.184980869293213,9.039942741394043,8.419466972351074,7.928215980529785,7.199333667755127,7.015097618103027,7.858323097229004,6.722546100616455,9.04702377319336,2.5035839080810547,7.916983604431152,-8.391791343688965,-7.08490514755249,-4.817924499511719,-9.96092414855957,-10.665436744689941,-3.593111991882324,-2.5452308654785156,-6.909325122833252,-8.788980484008789,-7.91201639175415,-17.101146697998047,-12.720832824707031,-14.96499252319336,-14.079300880432129,-15.004183769226074,-2.2393670082092285,-1.5727840662002563,-2.1494789123535156,11.565953254699707,11.616086959838867,10.96316146850586,-6.7943115234375,-0.08126946538686752,-11.293760299682617,2.3298683166503906,2.7260794639587402,3.053666830062866,-0.09708776324987411,-4.405750751495361,-4.043371677398682,-3.925210475921631,-10.826432228088379,-1.499159336090088,-1.3518402576446533,-11.02143383026123,-9.34185791015625,-18.15936851501465,-2.1361074447631836,-1.976711630821228,-8.617847442626953,-9.659086227416992,-4.531595230102539,-4.181951999664307,-8.056032180786133,-3.21785044670105,-12.160762786865234,7.9300312995910645,-12.38836669921875,-4.401601791381836,-5.645550727844238,-10.8485107421875,0.7517951726913452,-7.23087215423584,1.2052876949310303,-8.36630630493164,3.520397186279297,2.7404656410217285,-11.198336601257324,6.459009647369385,1.9509333372116089,4.281928539276123,5.1839470863342285,17.046342849731445,4.128533363342285,8.488306045532227,1.3789855241775513,14.99825668334961,-5.989871025085449,-10.484536170959473,-10.279820442199707,-10.186519622802734,-9.207390785217285,-9.53911018371582,11.987110137939453,14.533409118652344,13.686599731445312,13.201966285705566,10.416879653930664,13.341124534606934,13.509455680847168,11.637338638305664,10.852289199829102,9.435761451721191,11.530717849731445,12.484768867492676,12.121464729309082,12.54122257232666,-4.659073829650879,-6.674482822418213,-6.737146377563477,6.127807140350342,6.680463790893555,6.985962390899658,7.307754993438721,-18.28477668762207,-18.35356903076172,-18.919408798217773,-2.249433755874634,-17.387699127197266,-1.1928530931472778,0.21547900140285492,-1.4160277843475342,-1.1602280139923096,-0.4289948642253876,-1.161789059638977,-1.371172547340393,-0.723551332950592,-4.5665059089660645,-1.5149283409118652,-11.076531410217285,-12.24467658996582,-12.153314590454102,-12.24467658996582,5.774263858795166,3.669215440750122,5.653092861175537,0.8735870122909546,5.8330793380737305,-4.181357383728027,-4.443448543548584,-4.238993167877197,-1.3057780265808105,-17.513336181640625,-17.485570907592773,-17.422603607177734],\"yaxis\":\"y\",\"type\":\"scatter\"}],                        {\"template\":{\"data\":{\"histogram2dcontour\":[{\"type\":\"histogram2dcontour\",\"colorbar\":{\"outlinewidth\":0,\"ticks\":\"\"},\"colorscale\":[[0.0,\"#0d0887\"],[0.1111111111111111,\"#46039f\"],[0.2222222222222222,\"#7201a8\"],[0.3333333333333333,\"#9c179e\"],[0.4444444444444444,\"#bd3786\"],[0.5555555555555556,\"#d8576b\"],[0.6666666666666666,\"#ed7953\"],[0.7777777777777778,\"#fb9f3a\"],[0.8888888888888888,\"#fdca26\"],[1.0,\"#f0f921\"]]}],\"choropleth\":[{\"type\":\"choropleth\",\"colorbar\":{\"outlinewidth\":0,\"ticks\":\"\"}}],\"histogram2d\":[{\"type\":\"histogram2d\",\"colorbar\":{\"outlinewidth\":0,\"ticks\":\"\"},\"colorscale\":[[0.0,\"#0d0887\"],[0.1111111111111111,\"#46039f\"],[0.2222222222222222,\"#7201a8\"],[0.3333333333333333,\"#9c179e\"],[0.4444444444444444,\"#bd3786\"],[0.5555555555555556,\"#d8576b\"],[0.6666666666666666,\"#ed7953\"],[0.7777777777777778,\"#fb9f3a\"],[0.8888888888888888,\"#fdca26\"],[1.0,\"#f0f921\"]]}],\"heatmap\":[{\"type\":\"heatmap\",\"colorbar\":{\"outlinewidth\":0,\"ticks\":\"\"},\"colorscale\":[[0.0,\"#0d0887\"],[0.1111111111111111,\"#46039f\"],[0.2222222222222222,\"#7201a8\"],[0.3333333333333333,\"#9c179e\"],[0.4444444444444444,\"#bd3786\"],[0.5555555555555556,\"#d8576b\"],[0.6666666666666666,\"#ed7953\"],[0.7777777777777778,\"#fb9f3a\"],[0.8888888888888888,\"#fdca26\"],[1.0,\"#f0f921\"]]}],\"heatmapgl\":[{\"type\":\"heatmapgl\",\"colorbar\":{\"outlinewidth\":0,\"ticks\":\"\"},\"colorscale\":[[0.0,\"#0d0887\"],[0.1111111111111111,\"#46039f\"],[0.2222222222222222,\"#7201a8\"],[0.3333333333333333,\"#9c179e\"],[0.4444444444444444,\"#bd3786\"],[0.5555555555555556,\"#d8576b\"],[0.6666666666666666,\"#ed7953\"],[0.7777777777777778,\"#fb9f3a\"],[0.8888888888888888,\"#fdca26\"],[1.0,\"#f0f921\"]]}],\"contourcarpet\":[{\"type\":\"contourcarpet\",\"colorbar\":{\"outlinewidth\":0,\"ticks\":\"\"}}],\"contour\":[{\"type\":\"contour\",\"colorbar\":{\"outlinewidth\":0,\"ticks\":\"\"},\"colorscale\":[[0.0,\"#0d0887\"],[0.1111111111111111,\"#46039f\"],[0.2222222222222222,\"#7201a8\"],[0.3333333333333333,\"#9c179e\"],[0.4444444444444444,\"#bd3786\"],[0.5555555555555556,\"#d8576b\"],[0.6666666666666666,\"#ed7953\"],[0.7777777777777778,\"#fb9f3a\"],[0.8888888888888888,\"#fdca26\"],[1.0,\"#f0f921\"]]}],\"surface\":[{\"type\":\"surface\",\"colorbar\":{\"outlinewidth\":0,\"ticks\":\"\"},\"colorscale\":[[0.0,\"#0d0887\"],[0.1111111111111111,\"#46039f\"],[0.2222222222222222,\"#7201a8\"],[0.3333333333333333,\"#9c179e\"],[0.4444444444444444,\"#bd3786\"],[0.5555555555555556,\"#d8576b\"],[0.6666666666666666,\"#ed7953\"],[0.7777777777777778,\"#fb9f3a\"],[0.8888888888888888,\"#fdca26\"],[1.0,\"#f0f921\"]]}],\"mesh3d\":[{\"type\":\"mesh3d\",\"colorbar\":{\"outlinewidth\":0,\"ticks\":\"\"}}],\"scatter\":[{\"fillpattern\":{\"fillmode\":\"overlay\",\"size\":10,\"solidity\":0.2},\"type\":\"scatter\"}],\"parcoords\":[{\"type\":\"parcoords\",\"line\":{\"colorbar\":{\"outlinewidth\":0,\"ticks\":\"\"}}}],\"scatterpolargl\":[{\"type\":\"scatterpolargl\",\"marker\":{\"colorbar\":{\"outlinewidth\":0,\"ticks\":\"\"}}}],\"bar\":[{\"error_x\":{\"color\":\"#2a3f5f\"},\"error_y\":{\"color\":\"#2a3f5f\"},\"marker\":{\"line\":{\"color\":\"#E5ECF6\",\"width\":0.5},\"pattern\":{\"fillmode\":\"overlay\",\"size\":10,\"solidity\":0.2}},\"type\":\"bar\"}],\"scattergeo\":[{\"type\":\"scattergeo\",\"marker\":{\"colorbar\":{\"outlinewidth\":0,\"ticks\":\"\"}}}],\"scatterpolar\":[{\"type\":\"scatterpolar\",\"marker\":{\"colorbar\":{\"outlinewidth\":0,\"ticks\":\"\"}}}],\"histogram\":[{\"marker\":{\"pattern\":{\"fillmode\":\"overlay\",\"size\":10,\"solidity\":0.2}},\"type\":\"histogram\"}],\"scattergl\":[{\"type\":\"scattergl\",\"marker\":{\"colorbar\":{\"outlinewidth\":0,\"ticks\":\"\"}}}],\"scatter3d\":[{\"type\":\"scatter3d\",\"line\":{\"colorbar\":{\"outlinewidth\":0,\"ticks\":\"\"}},\"marker\":{\"colorbar\":{\"outlinewidth\":0,\"ticks\":\"\"}}}],\"scattermapbox\":[{\"type\":\"scattermapbox\",\"marker\":{\"colorbar\":{\"outlinewidth\":0,\"ticks\":\"\"}}}],\"scatterternary\":[{\"type\":\"scatterternary\",\"marker\":{\"colorbar\":{\"outlinewidth\":0,\"ticks\":\"\"}}}],\"scattercarpet\":[{\"type\":\"scattercarpet\",\"marker\":{\"colorbar\":{\"outlinewidth\":0,\"ticks\":\"\"}}}],\"carpet\":[{\"aaxis\":{\"endlinecolor\":\"#2a3f5f\",\"gridcolor\":\"white\",\"linecolor\":\"white\",\"minorgridcolor\":\"white\",\"startlinecolor\":\"#2a3f5f\"},\"baxis\":{\"endlinecolor\":\"#2a3f5f\",\"gridcolor\":\"white\",\"linecolor\":\"white\",\"minorgridcolor\":\"white\",\"startlinecolor\":\"#2a3f5f\"},\"type\":\"carpet\"}],\"table\":[{\"cells\":{\"fill\":{\"color\":\"#EBF0F8\"},\"line\":{\"color\":\"white\"}},\"header\":{\"fill\":{\"color\":\"#C8D4E3\"},\"line\":{\"color\":\"white\"}},\"type\":\"table\"}],\"barpolar\":[{\"marker\":{\"line\":{\"color\":\"#E5ECF6\",\"width\":0.5},\"pattern\":{\"fillmode\":\"overlay\",\"size\":10,\"solidity\":0.2}},\"type\":\"barpolar\"}],\"pie\":[{\"automargin\":true,\"type\":\"pie\"}]},\"layout\":{\"autotypenumbers\":\"strict\",\"colorway\":[\"#636efa\",\"#EF553B\",\"#00cc96\",\"#ab63fa\",\"#FFA15A\",\"#19d3f3\",\"#FF6692\",\"#B6E880\",\"#FF97FF\",\"#FECB52\"],\"font\":{\"color\":\"#2a3f5f\"},\"hovermode\":\"closest\",\"hoverlabel\":{\"align\":\"left\"},\"paper_bgcolor\":\"white\",\"plot_bgcolor\":\"#E5ECF6\",\"polar\":{\"bgcolor\":\"#E5ECF6\",\"angularaxis\":{\"gridcolor\":\"white\",\"linecolor\":\"white\",\"ticks\":\"\"},\"radialaxis\":{\"gridcolor\":\"white\",\"linecolor\":\"white\",\"ticks\":\"\"}},\"ternary\":{\"bgcolor\":\"#E5ECF6\",\"aaxis\":{\"gridcolor\":\"white\",\"linecolor\":\"white\",\"ticks\":\"\"},\"baxis\":{\"gridcolor\":\"white\",\"linecolor\":\"white\",\"ticks\":\"\"},\"caxis\":{\"gridcolor\":\"white\",\"linecolor\":\"white\",\"ticks\":\"\"}},\"coloraxis\":{\"colorbar\":{\"outlinewidth\":0,\"ticks\":\"\"}},\"colorscale\":{\"sequential\":[[0.0,\"#0d0887\"],[0.1111111111111111,\"#46039f\"],[0.2222222222222222,\"#7201a8\"],[0.3333333333333333,\"#9c179e\"],[0.4444444444444444,\"#bd3786\"],[0.5555555555555556,\"#d8576b\"],[0.6666666666666666,\"#ed7953\"],[0.7777777777777778,\"#fb9f3a\"],[0.8888888888888888,\"#fdca26\"],[1.0,\"#f0f921\"]],\"sequentialminus\":[[0.0,\"#0d0887\"],[0.1111111111111111,\"#46039f\"],[0.2222222222222222,\"#7201a8\"],[0.3333333333333333,\"#9c179e\"],[0.4444444444444444,\"#bd3786\"],[0.5555555555555556,\"#d8576b\"],[0.6666666666666666,\"#ed7953\"],[0.7777777777777778,\"#fb9f3a\"],[0.8888888888888888,\"#fdca26\"],[1.0,\"#f0f921\"]],\"diverging\":[[0,\"#8e0152\"],[0.1,\"#c51b7d\"],[0.2,\"#de77ae\"],[0.3,\"#f1b6da\"],[0.4,\"#fde0ef\"],[0.5,\"#f7f7f7\"],[0.6,\"#e6f5d0\"],[0.7,\"#b8e186\"],[0.8,\"#7fbc41\"],[0.9,\"#4d9221\"],[1,\"#276419\"]]},\"xaxis\":{\"gridcolor\":\"white\",\"linecolor\":\"white\",\"ticks\":\"\",\"title\":{\"standoff\":15},\"zerolinecolor\":\"white\",\"automargin\":true,\"zerolinewidth\":2},\"yaxis\":{\"gridcolor\":\"white\",\"linecolor\":\"white\",\"ticks\":\"\",\"title\":{\"standoff\":15},\"zerolinecolor\":\"white\",\"automargin\":true,\"zerolinewidth\":2},\"scene\":{\"xaxis\":{\"backgroundcolor\":\"#E5ECF6\",\"gridcolor\":\"white\",\"linecolor\":\"white\",\"showbackground\":true,\"ticks\":\"\",\"zerolinecolor\":\"white\",\"gridwidth\":2},\"yaxis\":{\"backgroundcolor\":\"#E5ECF6\",\"gridcolor\":\"white\",\"linecolor\":\"white\",\"showbackground\":true,\"ticks\":\"\",\"zerolinecolor\":\"white\",\"gridwidth\":2},\"zaxis\":{\"backgroundcolor\":\"#E5ECF6\",\"gridcolor\":\"white\",\"linecolor\":\"white\",\"showbackground\":true,\"ticks\":\"\",\"zerolinecolor\":\"white\",\"gridwidth\":2}},\"shapedefaults\":{\"line\":{\"color\":\"#2a3f5f\"}},\"annotationdefaults\":{\"arrowcolor\":\"#2a3f5f\",\"arrowhead\":0,\"arrowwidth\":1},\"geo\":{\"bgcolor\":\"white\",\"landcolor\":\"#E5ECF6\",\"subunitcolor\":\"white\",\"showland\":true,\"showlakes\":true,\"lakecolor\":\"white\"},\"title\":{\"x\":0.05},\"mapbox\":{\"style\":\"light\"}}},\"xaxis\":{\"anchor\":\"y\",\"domain\":[0.0,1.0],\"title\":{\"text\":\"t-SNE1\"}},\"yaxis\":{\"anchor\":\"x\",\"domain\":[0.0,1.0],\"title\":{\"text\":\"t-SNE2\"}},\"coloraxis\":{\"colorbar\":{\"title\":{\"text\":\"Cluster\"}},\"colorscale\":[[0.0,\"#0d0887\"],[0.1111111111111111,\"#46039f\"],[0.2222222222222222,\"#7201a8\"],[0.3333333333333333,\"#9c179e\"],[0.4444444444444444,\"#bd3786\"],[0.5555555555555556,\"#d8576b\"],[0.6666666666666666,\"#ed7953\"],[0.7777777777777778,\"#fb9f3a\"],[0.8888888888888888,\"#fdca26\"],[1.0,\"#f0f921\"]]},\"legend\":{\"tracegroupgap\":0},\"margin\":{\"t\":60},\"title\":{\"text\":\"Interactive t-SNE Visualization of Bookmark Clusters\"},\"plot_bgcolor\":\"rgb(250,250,250)\",\"width\":1000,\"height\":800},                        {\"responsive\": true}                    ).then(function(){\n",
       "                            \n",
       "var gd = document.getElementById('5b1dce70-5d5f-4a14-9c06-6b9633147fce');\n",
       "var x = new MutationObserver(function (mutations, observer) {{\n",
       "        var display = window.getComputedStyle(gd).display;\n",
       "        if (!display || display === 'none') {{\n",
       "            console.log([gd, 'removed!']);\n",
       "            Plotly.purge(gd);\n",
       "            observer.disconnect();\n",
       "        }}\n",
       "}});\n",
       "\n",
       "// Listen for the removal of the full notebook cells\n",
       "var notebookContainer = gd.closest('#notebook-container');\n",
       "if (notebookContainer) {{\n",
       "    x.observe(notebookContainer, {childList: true});\n",
       "}}\n",
       "\n",
       "// Listen for the clearing of the current output cell\n",
       "var outputEl = gd.closest('.output');\n",
       "if (outputEl) {{\n",
       "    x.observe(outputEl, {childList: true});\n",
       "}}\n",
       "\n",
       "                        })                };                });            </script>        </div>"
      ]
     },
     "metadata": {},
     "output_type": "display_data"
    },
    {
     "name": "stdout",
     "output_type": "stream",
     "text": [
      "Interactive plot saved as 'bookmark_clusters_interactive.html'\n"
     ]
    }
   ],
   "source": [
    "import json\n",
    "import numpy as np\n",
    "import hdbscan\n",
    "from hdbscan import HDBSCAN\n",
    "from hdbscan.validity import validity_index\n",
    "import pandas as pd\n",
    "from sklearn.decomposition import TruncatedSVD\n",
    "from sklearn.manifold import TSNE\n",
    "import plotly.express as px\n",
    "import colorcet as cc\n",
    "from collections import defaultdict\n",
    "import warnings\n",
    "from sklearn.preprocessing import StandardScaler\n",
    "\n",
    "def optimize_hdbscan_clustering(embeddings, min_cluster_size_range=range(5, 50, 5)):\n",
    "    best_score = -np.inf\n",
    "    best_labels = None\n",
    "    best_params = {}\n",
    "    \n",
    "    # Scale the embeddings\n",
    "    scaler = StandardScaler()\n",
    "    embeddings_scaled = scaler.fit_transform(embeddings)\n",
    "    \n",
    "    for min_cluster_size in min_cluster_size_range:\n",
    "        clusterer = HDBSCAN(min_cluster_size=min_cluster_size, min_samples=1, gen_min_span_tree=True)\n",
    "        clusterer.fit(embeddings_scaled)\n",
    "        \n",
    "        if len(set(clusterer.labels_)) > 1:  # Ensure we have more than one cluster\n",
    "            try:\n",
    "                with warnings.catch_warnings():\n",
    "                    warnings.filterwarnings('ignore', category=RuntimeWarning)\n",
    "                    score = hdbscan.validity.validity_index(embeddings_scaled, clusterer.labels_)\n",
    "                if score > best_score:\n",
    "                    best_score = score\n",
    "                    best_labels = clusterer.labels_\n",
    "                    best_params = {'min_cluster_size': min_cluster_size}\n",
    "            except Exception as e:\n",
    "                print(f\"Error calculating validity index for min_cluster_size={min_cluster_size}: {str(e)}\")\n",
    "                continue\n",
    "    \n",
    "    return best_score, best_params, best_labels\n",
    "\n",
    "def build_folder_structure(labels, titles):\n",
    "    root = {\"name\": \"Root\", \"type\": \"folder\", \"children\": []}\n",
    "    clusters = defaultdict(list)\n",
    "    \n",
    "    for label, title in zip(labels, titles):\n",
    "        if label != -1:  # -1 is the noise label in HDBSCAN\n",
    "            clusters[label].append({\"name\": title, \"type\": \"bookmark\"})\n",
    "        else:\n",
    "            root[\"children\"].append({\"name\": title, \"type\": \"bookmark\"})\n",
    "    \n",
    "    for label, bookmarks in clusters.items():\n",
    "        cluster_folder = {\"name\": f\"Cluster {label}\", \"type\": \"folder\", \"children\": bookmarks}\n",
    "        root[\"children\"].append(cluster_folder)\n",
    "    \n",
    "    return root\n",
    "\n",
    "def print_folder_structure(folder, indent=0):\n",
    "    prefix = \"  \" * indent\n",
    "    if folder[\"type\"] == \"folder\":\n",
    "        print(f\"{prefix}+ {folder['name']} ({len([c for c in folder['children'] if c['type'] == 'bookmark'])} bookmarks, {len([c for c in folder['children'] if c['type'] == 'folder'])} subfolders)\")\n",
    "        for child in folder[\"children\"]:\n",
    "            print_folder_structure(child, indent + 1)\n",
    "    else:\n",
    "        print(f\"{prefix}- {folder['name']}\")\n",
    "\n",
    "def visualize_embeddings_plotly(embeddings_2d, labels, titles):\n",
    "    df = pd.DataFrame({\n",
    "        't-SNE1': embeddings_2d[:, 0],\n",
    "        't-SNE2': embeddings_2d[:, 1],\n",
    "        'Cluster': labels,\n",
    "        'Title': titles\n",
    "    })\n",
    "\n",
    "    color_palette = cc.glasbey_dark\n",
    "\n",
    "    fig = px.scatter(df, x='t-SNE1', y='t-SNE2', color='Cluster',\n",
    "                     hover_data=['Title'], color_discrete_sequence=color_palette)\n",
    "\n",
    "    fig.update_layout(\n",
    "        title=\"Interactive t-SNE Visualization of Bookmark Clusters\",\n",
    "        plot_bgcolor='rgb(250,250,250)',\n",
    "        width=1000,\n",
    "        height=800,\n",
    "    )\n",
    "\n",
    "    fig.show()\n",
    "    fig.write_html(\"bookmark_clusters_interactive.html\")\n",
    "    print(\"Interactive plot saved as 'bookmark_clusters_interactive.html'\")\n",
    "\n",
    "# Load the embedded bookmarks\n",
    "with open('embedded_bookmarks.json') as f:\n",
    "    data = json.load(f)\n",
    "\n",
    "embeddings = np.array([bookmark[\"embedding\"] for bookmark in data])\n",
    "\n",
    "print(\"\\nHDBSCAN Clustering:\")\n",
    "hdbscan_score, hdbscan_params, hdbscan_labels = optimize_hdbscan_clustering(embeddings)\n",
    "print(f\"Best HDBSCAN Score: {hdbscan_score:.4f}\")\n",
    "print(f\"Best Parameters: {hdbscan_params}\")\n",
    "print(f\"Number of Clusters: {len(set(hdbscan_labels)) - (1 if -1 in hdbscan_labels else 0)}\")\n",
    "\n",
    "# Build and print folder structure\n",
    "folder_structure = build_folder_structure(hdbscan_labels, titles)\n",
    "print(\"\\nFolder Structure:\")\n",
    "print_folder_structure(folder_structure)\n",
    "\n",
    "# Perform t-SNE for visualization\n",
    "tsne = TSNE(n_components=2, random_state=42)\n",
    "embeddings_2d = tsne.fit_transform(embeddings_reduced)\n",
    "\n",
    "# Visualize with Plotly\n",
    "visualize_embeddings_plotly(embeddings_2d, hdbscan_labels, titles)"
   ]
  }
 ],
 "metadata": {
  "kernelspec": {
   "display_name": "base",
   "language": "python",
   "name": "python3"
  },
  "language_info": {
   "codemirror_mode": {
    "name": "ipython",
    "version": 3
   },
   "file_extension": ".py",
   "mimetype": "text/x-python",
   "name": "python",
   "nbconvert_exporter": "python",
   "pygments_lexer": "ipython3",
   "version": "3.12.2"
  }
 },
 "nbformat": 4,
 "nbformat_minor": 2
}
