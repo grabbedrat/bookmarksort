{
 "cells": [
  {
   "cell_type": "code",
   "execution_count": 6,
   "metadata": {},
   "outputs": [
    {
     "name": "stdout",
     "output_type": "stream",
     "text": [
      "\n",
      "HDBSCAN Clustering:\n",
      "Best HDBSCAN Score: 0.0128\n",
      "Best Parameters: {'min_cluster_size': 5}\n",
      "Number of Clusters: 4\n",
      "\n",
      "Folder Structure:\n",
      "+ Root (51 bookmarks, 4 subfolders)\n",
      "  - About Us\n",
      "  - januff/spotify-liked-songs-export: A Spotify Authorization Code flow using Remix and StepZen.\n",
      "  - macOS support · Issue #22 · ufal/whisper_streaming\n",
      "  - Windows and Mac support · Issue #5 · mingruimingrui/fast-mosestokenizer\n",
      "  - Operation Sea-Spray - Wikipedia\n",
      "  - Phoenix Program - Wikipedia\n",
      "  - World Bank - Wikipedia\n",
      "  - Announcing WIT: A Wikipedia-Based Image-Text Dataset\n",
      "  - YouTube\n",
      "  - https://www.whereareyoutube.com/\n",
      "  - Imagine Dragons - Dream (Jorgen Odegard Remix) - YouTube\n",
      "  - GLUTEN FREE MUSEUM\n",
      "  - RunPod - The Cloud Built for AI\n",
      "  - Gemini\n",
      "  - Freedom of Information Act Electronic Reading Room | CIA FOIA (foia.cia.gov)\n",
      "  - MR Online\n",
      "  - The CIA & the Frankfurt school’s anti-communism | MR Online\n",
      "  - Известия – новости политики, экономики, спорта, культуры | IZ.RU\n",
      "  - Subscribe | The New Yorker\n",
      "  - 538 — Election Polls, Politics, and Analysis - ABC News\n",
      "  - the tiny corp raised $5.1M | the singularity is nearer\n",
      "  - ‘It was an accident’: the scientists who have turned humid air into renewable power | Science | The\n",
      "  - Science and Math News | Quanta Magazine\n",
      "  - Science Hub\n",
      "  - Linear Algebra—A Primer || Math ∩ Programming\n",
      "  - 9789241596169_eng.pdf\n",
      "  - Half of US population exposed to adverse lead levels in early childhood | PNAS\n",
      "  - links and such – books are life\n",
      "  - PT: 20 Best Psychology Books to Read in 2020 : r/PsychologicalTricks\n",
      "  - Homepage | BPS\n",
      "  - Bandcamp\n",
      "  - https://event.crowdcompass.com/ugm2022/schedule-items?date=2022-08-21\n",
      "  - Best albums of 2022 - Rate Your Music\n",
      "  - https://45.79.25.185/_/#/collections?collectionId=_pb_users_auth_&filter=&sort=-created\n",
      "  - Men's Gilly Hicks Sherpa Quarter-Zip | Men's Clearance | HollisterCo.com\n",
      "  - The Ultimate Guide to Men's Hair Products (Every Type Explained) – Beardbrand\n",
      "  - Notes - Daniel Imfeld\n",
      "  - Roland FP-30X Digital Piano with Speakers Home Bundle- Black | Sweetwater\n",
      "  - Quiver Quantitative\n",
      "  - Humble Bundle - Key already claimed\n",
      "  - Spurious Correlations\n",
      "  - https://www.veromi.net/lander\n",
      "  - How to Get Unbanned from Overwatch 2 in 2024 - Unbanster\n",
      "  - River Nice LinkTree\n",
      "  - Agent-OM: Leveraging LLM Agents for Ontology Matching - 2312.00326v2.pdf\n",
      "  - 10 Noteworthy AI Research Papers of 2023\n",
      "  - Bible Reading and Study Plans | Biblical Christianity\n",
      "  - APT vs APT-GET: What's the Difference?\n",
      "  - Microsoft Forms\n",
      "  - This is How You Died | The Order of the Good Death\n",
      "  - Drowning in Problems\n",
      "  + Cluster 2 (189 bookmarks, 0 subfolders)\n",
      "    - Debugging - Runtime / this-firefox\n",
      "    - Get Help\n",
      "    - Customize Firefox\n",
      "    - Get Involved\n",
      "    - Volunteer Opportunities at Mozilla — Mozilla\n",
      "    - scikit-learn-contrib/hdbscan: A high performance implementation of HDBSCAN clustering.\n",
      "    - GitHub Accelerator\n",
      "    - OSINT Framework\n",
      "    - cheetz (Peter Kim)\n",
      "    - Russian cuisine - Wikipedia\n",
      "    - Modern Hopfield network - Wikipedia\n",
      "    - Ultimate Tailwind CSS Tutorial // Build a Discord-inspired Animated Navbar - YouTube\n",
      "    - Install daisyUI as a Tailwind CSS plugin — Tailwind CSS Components ( version 4 update is here )\n",
      "    - All Categories - Twitch\n",
      "    - Untitled Bookmark\n",
      "    - Dropout - Independent, ad-free, uncensored comedy | Dropout\n",
      "    - breadchris\n",
      "    - Roasted Tomato and White Bean Stew Recipe\n",
      "    - Vanilla Soy Ice Cream Recipe - Food.com\n",
      "    - Fastly error: unknown domain uk.businessinsider.com\n",
      "    - Domain Acquisition Service: Buy Registered Domains | eNaming\n",
      "    - The No-Justice Catalog - Google Drive\n",
      "    - Google Cloud Next\n",
      "    - Meet AI’s multitool: Vector embeddings | Google Cloud Blog\n",
      "    - Tim Cannon's Homepage - Teaching 'Innovations'\n",
      "    - APIs & Services – Google Maps Platform – My First Project – Google Cloud console\n",
      "    - Cloud Computing Services - Amazon Web Services (AWS)\n",
      "    - Training - Google Drive\n",
      "    - 📜 ➜ Megathread\n",
      "    - Exploding Topics - Discover the hottest new trends.\n",
      "    - http://www.whatthefuckhasobamadonesofar.com/\n",
      "    - https://tweeterino.com/realDonaldTrump\n",
      "    - Blog - Austin Z. Henley\n",
      "    - 1500+ Best Website Templates (HTML & CSS) 2024 - Colorlib\n",
      "    - http://retdec.hostbin.org/index.html\n",
      "    - Hyperbole and a Half: The Alot is Better Than You at Everything\n",
      "    - Latent Space | swyx & Alessio | Substack\n",
      "    - Whisper JAX - a Hugging Face Space by sanchit-gandhi\n",
      "    - sentence-transformers/all-mpnet-base-v2 · Hugging Face\n",
      "    - Life After Epic\n",
      "    - DOTEXE\n",
      "    - Play Guardians of the Galaxy Vol. 2 (Original Score) by Tyler Bates on Amazon Music\n",
      "    - Amazon Music Unlimited | Stream 100 Million Songs & Podcasts\n",
      "    - DBOS | A Database-Oriented Operating System\n",
      "    - CS:GO: From Zero to 0-day — Neodyme\n",
      "    - Best Online Cybersecurity Courses & Certifications | HTB Academy\n",
      "    - The Daily Swig | Cybersecurity news and views\n",
      "    - Updates – Secure Planet\n",
      "    - Exploit Database - Exploits for Penetration Testers, Researchers, and Ethical Hackers\n",
      "    - OverTheWire: Wargames\n",
      "    - Essentials – Kith\n",
      "    - Mens Clothes & Unisex Clothes | Shop Online Fashion – HOOOYI\n",
      "    - Graphic Tees, Cool T Shirt Designs For Men And Women - DesignByHumans\n",
      "    - Ugmonk\n",
      "    - Dark Seas Division\n",
      "    - All – MSFTSrep\n",
      "    - Kith\n",
      "    - another example of unrealistic body expectations for men - Imgur\n",
      "    - A Short Guide to Fall Sweaters : r/malefashionadvice\n",
      "    - JustWatch - The Streaming Guide\n",
      "    - [2109.02124] The Koha Code: A Biological Theory of Memory\n",
      "    - CodePen: Online Code Editor and Front End Web Developer Community\n",
      "    - Fireship - Learn to Code Faster\n",
      "    - Features | Cursor - The AI-first Code Editor\n",
      "    - Login | HeadshotPro\n",
      "    - Log In — WordPress.com\n",
      "    - Login – Vercel\n",
      "    - Online Banking Log In\n",
      "    - Sign In | Pocket Prep\n",
      "    - http://localhost:5173/\n",
      "    - Welcome to nginx!\n",
      "    - http://dev.thi.ng/gradients/\n",
      "    - 404 Not Found\n",
      "    - 404 Not Found\n",
      "    - 500 Internal Server Error\n",
      "    - Error page :(\n",
      "    - Loreteller\n",
      "    - Graphtoy\n",
      "    - D3 by Observable | The JavaScript library for bespoke data visualization\n",
      "    - Mash Radar - Etsy\n",
      "    - ArtStation - Garden\n",
      "    - Library | johnaugust.com\n",
      "    - Sketchpad - Draw, Create, Share!\n",
      "    - Learn | Pinecone\n",
      "    - Chat with Open Large Language Models\n",
      "    - Translations: | BabyAGI\n",
      "    - TensorFlow Recommenders\n",
      "    - Find Pre-trained Models | Kaggle\n",
      "    - Banana - GPUs For Inference\n",
      "    - AutoGPT Documentation\n",
      "    - AutoGPT Official\n",
      "    - AlphaCode\n",
      "    - Machine Learning is Fun!\n",
      "    - SDWORKS - Helping Individuals Reach Employment\n",
      "    - https://www.intelligencecareers.gov/ic_jet2.html\n",
      "    - Careers | Bedford Industries\n",
      "    - My Job Search\n",
      "    - ann arbor internships\n",
      "    - Client-side component API • Docs • Svelte\n",
      "    - Jamstack Conf\n",
      "    - Transitions / Deferred transitions • Svelte Tutorial\n",
      "    - The best deals in the 2022 Steam Winter Sale | PC Gamer\n",
      "    - The top 100 PC games | PC Gamer\n",
      "    - IsThereAnyDeal\n",
      "    - Search\n",
      "    - Shodan Search Engine\n",
      "    - Kali Linux Revealed (KLR/PEN-103) | Mastering the Penetest Distribution\n",
      "    - Basic Linux Privilege Escalation - g0tmi1k\n",
      "    - Windows Privilege Escalation Guide\n",
      "    - Debugging - Setup\n",
      "    - LPT: How to get more out of Google - Imgur\n",
      "    - Flexfit - V-Flex Twill Cap - CVF038 | Custom Image Wear | Phelps\n",
      "    - Scrapy | A Fast and Powerful Scraping and Web Crawling Framework\n",
      "    - Ohma World\n",
      "    - Remote Jobs in Programming, Design, Sales and more #OpenSalaries\n",
      "    - PNPT: Certification Review - Black Hills Information Security\n",
      "    - Reddit - Dive into anything\n",
      "    - Rat Race Rebellion - Real Work from Home Jobs Since 1999\n",
      "    - Svelte Recipes: World Map\n",
      "    - https://www.enyxo.com/trial/\n",
      "    - SerpApi: Google Search API\n",
      "    - public-apis/public-apis: A collective list of free APIs\n",
      "    - Concept2 rowing machine at DuckDuckGo\n",
      "    - 3D Gaussian Splatting for Real-Time Radiance Field Rendering\n",
      "    - Mandelbrot and Julia set – MATIGEKUNSTINTELLIGENTIE\n",
      "    - The Python Scrapy Playbook | The Python Scrapy Playbook\n",
      "    - Taskade — AI-Powered Productivity, Your Second Brain.\n",
      "    - Slack\n",
      "    - StackShare - Tech Stack Intelligence\n",
      "    - UnityTechnologies/MachineLearningRoguelike: A small Roguelike game that uses Machine Learning to pow\n",
      "    - US Accidents (2016 - 2023)\n",
      "    - Weights & Biases For Fans Of Two Minute Papers\n",
      "    - Sponsors | Oregon Cyber Security | Cyber Oregon\n",
      "    - Welcome [Root Me : Hacking and Information Security learning platform]\n",
      "    - CheckUsernames - Social Media Username Search by KnowEm\n",
      "    - Bypassing CSP using polyglot JPEGs | PortSwigger Research\n",
      "    - https://runeforge.gg/\n",
      "    - Reddit - https://i.redd.it/lxlir08l5fpz.png\n",
      "    - Manta1131 🌮 Situs Slot Gacor Terpercaya Jackpot Maxwin di Tangan\n",
      "    - Pyodide — Version 0.26.0\n",
      "    - Jina CLIP v1: A Truly Multimodal Embeddings Model for Text and Image\n",
      "    - jinaai/jina-clip-v1 · Hugging Face\n",
      "    - Embedding API\n",
      "    - [2405.20204] Jina CLIP: Your CLIP Model Is Also Your Text Retriever\n",
      "    - Jina AI - Your Search Foundation, Supercharged.\n",
      "    - The 25 Best Two-Line Jokes Ever - Funny post - Imgur\n",
      "    - doggo inspo (dogspo) - Imgur\n",
      "    - How I feel when playing a Shooter - Imgur\n",
      "    - When our parents told us - Imgur\n",
      "    - Anon attends a party - Imgur\n",
      "    - 23 Worst/Most unfortunate ad placements - Imgur\n",
      "    - To be a good dog I must use math - GIF - Imgur\n",
      "    - Orange Hitler vs Grandma Nixon - Imgur\n",
      "    - Have a Drink ! - Eat What You Want post - Imgur\n",
      "    - Battlefield 1 Wallpapers - battlefield post - Imgur\n",
      "    - - GIF - Imgur\n",
      "    - When you become a smart trolls personal enemy - Imgur\n",
      "    - Imgur: The magic of the Internet\n",
      "    - Imgur: The magic of the Internet\n",
      "    - Using ChatGPT to clean scraped data, and how to handle any big document with ChatGPT - LunaBrain\n",
      "    - ChatGPT\n",
      "    - ChatGPT\n",
      "    - Home - RA Benefits\n",
      "    - Dakota State University Team Site - Home\n",
      "    - DEPT - Residence Life\n",
      "    - Home\n",
      "    - Oops! - Dakota State University\n",
      "    - Page not found | CSE Research Experience for Undergraduates | Washington University in St. Louis\n",
      "    - REU: Big Data Analytics at Oklahoma State University\n",
      "    - http://reu.cs.wright.edu/projects.html\n",
      "    - DIMACS REU: Research Experience for Undergraduates\n",
      "    - REU Program | Worcester Polytechnic Institute\n",
      "    - SRCA-REU - Research Projects\n",
      "    - API Reference - OpenAI API\n",
      "    - OpenAI Platform\n",
      "    - WebGL Overlay (native API)  |  Maps JavaScript API  |  Google for Developers\n",
      "    - Overview - OpenAI API\n",
      "    - Unity Cheat Sheet\n",
      "    - HTML Cheat Sheet 📃 - The Best Interactive Cheat Sheet\n",
      "    - 524924d9-tft-set-7-cheat-sheet.png (PNG Image, 3000 × 1850 pixels) — Scaled (50%)\n",
      "    - Metasploit cheat sheet | Infosec\n",
      "    - Factorio v0.14 Cheat Sheets - Imgur\n",
      "    - Creating a gird system in Unity2D : r/Unity2D\n",
      "    - [Tutorial] Making a Grid with a 2D Array - Unity Forum\n",
      "    - How to move an object with the mouse in Unity (2D) - Game Dev Beginner\n",
      "    - https://pf.millennialsd.com/2017/09/26/resolved-the-united-states-should-require-universal-backgroun\n",
      "    - Sanford Careers - Linux Server Administrator in Sioux Falls, South Dakota, United States\n",
      "    - Sanford Careers - Unified Communications Technician - IT - Sioux Falls in Sioux Falls, South Dakota,\n",
      "    - Sanford Careers - Applications Support Technician in Sioux Falls, South Dakota, United States\n",
      "  + Cluster 3 (5 bookmarks, 0 subfolders)\n",
      "    - Google Messages for web\n",
      "    - Inbox (2,919) - timgsereda@gmail.com - Gmail\n",
      "    - Mail - Sereda, Timothy - Outlook\n",
      "    - Mail - Timothy Sereda - Outlook\n",
      "    - Mail - Sereda, Timothy - Outlook\n",
      "  + Cluster 1 (6 bookmarks, 0 subfolders)\n",
      "    - People Literally Don't Know When to Shut Up--or Keep Talking--Science Confirms | Scientific American\n",
      "    - Mental Illness Is Not in Your Head - Boston Review\n",
      "    - Scientists complete first map of an insect brain | Hub\n",
      "    - Journal of Neuroscience\n",
      "    - This Protein Could Boost Brain Function without Exercise | Scientific American\n",
      "    - Mind & Brain | Scientific American\n",
      "  + Cluster 0 (7 bookmarks, 0 subfolders)\n",
      "    - 1, 2 & 3 Bedroom Apartments in Madison, WI | Preserve West\n",
      "    - Home - Hometown Property Management, LLC\n",
      "    - 5934 Seminole Ct #1| Residential | Madison Property Management, Inc.\n",
      "    - Madison Area Listings | Madison Property Management, Inc\n",
      "    - McBride Companies | McBride Companies LLC\n",
      "    - 404 Page Not Found\n",
      "    - 211 South Franklin Street #1 Lease.pdf\n"
     ]
    },
    {
     "data": {
      "application/vnd.plotly.v1+json": {
       "config": {
        "plotlyServerURL": "https://plot.ly"
       },
       "data": [
        {
         "customdata": [
          [
           "Debugging - Runtime / this-firefox"
          ],
          [
           "Get Help"
          ],
          [
           "Customize Firefox"
          ],
          [
           "Get Involved"
          ],
          [
           "About Us"
          ],
          [
           "Volunteer Opportunities at Mozilla — Mozilla"
          ],
          [
           "scikit-learn-contrib/hdbscan: A high performance implementation of HDBSCAN clustering."
          ],
          [
           "januff/spotify-liked-songs-export: A Spotify Authorization Code flow using Remix and StepZen."
          ],
          [
           "macOS support · Issue #22 · ufal/whisper_streaming"
          ],
          [
           "Windows and Mac support · Issue #5 · mingruimingrui/fast-mosestokenizer"
          ],
          [
           "GitHub Accelerator"
          ],
          [
           "OSINT Framework"
          ],
          [
           "cheetz (Peter Kim)"
          ],
          [
           "Russian cuisine - Wikipedia"
          ],
          [
           "Operation Sea-Spray - Wikipedia"
          ],
          [
           "Phoenix Program - Wikipedia"
          ],
          [
           "World Bank - Wikipedia"
          ],
          [
           "Modern Hopfield network - Wikipedia"
          ],
          [
           "Announcing WIT: A Wikipedia-Based Image-Text Dataset"
          ],
          [
           "YouTube"
          ],
          [
           "Ultimate Tailwind CSS Tutorial // Build a Discord-inspired Animated Navbar - YouTube"
          ],
          [
           "Install daisyUI as a Tailwind CSS plugin — Tailwind CSS Components ( version 4 update is here )"
          ],
          [
           "All Categories - Twitch"
          ],
          [
           "https://www.whereareyoutube.com/"
          ],
          [
           "Imagine Dragons - Dream (Jorgen Odegard Remix) - YouTube"
          ],
          [
           "Untitled Bookmark"
          ],
          [
           "Dropout - Independent, ad-free, uncensored comedy | Dropout"
          ],
          [
           "breadchris"
          ],
          [
           "Roasted Tomato and White Bean Stew Recipe"
          ],
          [
           "Vanilla Soy Ice Cream Recipe - Food.com"
          ],
          [
           "Fastly error: unknown domain uk.businessinsider.com"
          ],
          [
           "GLUTEN FREE MUSEUM"
          ],
          [
           "Domain Acquisition Service: Buy Registered Domains | eNaming"
          ],
          [
           "The No-Justice Catalog - Google Drive"
          ],
          [
           "RunPod - The Cloud Built for AI"
          ],
          [
           "Google Cloud Next"
          ],
          [
           "Meet AI’s multitool: Vector embeddings | Google Cloud Blog"
          ],
          [
           "Tim Cannon's Homepage - Teaching 'Innovations'"
          ],
          [
           "Gemini"
          ],
          [
           "APIs & Services – Google Maps Platform – My First Project – Google Cloud console"
          ],
          [
           "Google Messages for web"
          ],
          [
           "Cloud Computing Services - Amazon Web Services (AWS)"
          ],
          [
           "Training - Google Drive"
          ],
          [
           "Freedom of Information Act Electronic Reading Room | CIA FOIA (foia.cia.gov)"
          ],
          [
           "MR Online"
          ],
          [
           "The CIA & the Frankfurt school’s anti-communism | MR Online"
          ],
          [
           "Известия – новости политики, экономики, спорта, культуры | IZ.RU"
          ],
          [
           "Subscribe | The New Yorker"
          ],
          [
           "📜 ➜ Megathread"
          ],
          [
           "538 — Election Polls, Politics, and Analysis - ABC News"
          ],
          [
           "Exploding Topics - Discover the hottest new trends."
          ],
          [
           "http://www.whatthefuckhasobamadonesofar.com/"
          ],
          [
           "https://tweeterino.com/realDonaldTrump"
          ],
          [
           "the tiny corp raised $5.1M | the singularity is nearer"
          ],
          [
           "Blog - Austin Z. Henley"
          ],
          [
           "1500+ Best Website Templates (HTML & CSS) 2024 - Colorlib"
          ],
          [
           "http://retdec.hostbin.org/index.html"
          ],
          [
           "Hyperbole and a Half: The Alot is Better Than You at Everything"
          ],
          [
           "Latent Space | swyx & Alessio | Substack"
          ],
          [
           "Whisper JAX - a Hugging Face Space by sanchit-gandhi"
          ],
          [
           "sentence-transformers/all-mpnet-base-v2 · Hugging Face"
          ],
          [
           "‘It was an accident’: the scientists who have turned humid air into renewable power | Science | The"
          ],
          [
           "Science and Math News | Quanta Magazine"
          ],
          [
           "Science Hub"
          ],
          [
           "Linear Algebra—A Primer || Math ∩ Programming"
          ],
          [
           "People Literally Don't Know When to Shut Up--or Keep Talking--Science Confirms | Scientific American"
          ],
          [
           "Mental Illness Is Not in Your Head - Boston Review"
          ],
          [
           "9789241596169_eng.pdf"
          ],
          [
           "Life After Epic"
          ],
          [
           "Half of US population exposed to adverse lead levels in early childhood | PNAS"
          ],
          [
           "links and such – books are life"
          ],
          [
           "PT: 20 Best Psychology Books to Read in 2020 : r/PsychologicalTricks"
          ],
          [
           "Homepage | BPS"
          ],
          [
           "DOTEXE"
          ],
          [
           "Bandcamp"
          ],
          [
           "https://event.crowdcompass.com/ugm2022/schedule-items?date=2022-08-21"
          ],
          [
           "Best albums of 2022 - Rate Your Music"
          ],
          [
           "Play Guardians of the Galaxy Vol. 2 (Original Score) by Tyler Bates on Amazon Music"
          ],
          [
           "Amazon Music Unlimited | Stream 100 Million Songs & Podcasts"
          ],
          [
           "DBOS | A Database-Oriented Operating System"
          ],
          [
           "CS:GO: From Zero to 0-day — Neodyme"
          ],
          [
           "Best Online Cybersecurity Courses & Certifications | HTB Academy"
          ],
          [
           "The Daily Swig | Cybersecurity news and views"
          ],
          [
           "Updates – Secure Planet"
          ],
          [
           "Exploit Database - Exploits for Penetration Testers, Researchers, and Ethical Hackers"
          ],
          [
           "OverTheWire: Wargames"
          ],
          [
           "Essentials – Kith"
          ],
          [
           "Mens Clothes & Unisex Clothes | Shop Online Fashion – HOOOYI"
          ],
          [
           "Graphic Tees, Cool T Shirt Designs For Men And Women - DesignByHumans"
          ],
          [
           "Ugmonk"
          ],
          [
           "https://45.79.25.185/_/#/collections?collectionId=_pb_users_auth_&filter=&sort=-created"
          ],
          [
           "Dark Seas Division"
          ],
          [
           "All – MSFTSrep"
          ],
          [
           "Kith"
          ],
          [
           "Men's Gilly Hicks Sherpa Quarter-Zip | Men's Clearance | HollisterCo.com"
          ],
          [
           "another example of unrealistic body expectations for men - Imgur"
          ],
          [
           "The Ultimate Guide to Men's Hair Products (Every Type Explained) – Beardbrand"
          ],
          [
           "A Short Guide to Fall Sweaters : r/malefashionadvice"
          ],
          [
           "JustWatch - The Streaming Guide"
          ],
          [
           "Notes - Daniel Imfeld"
          ],
          [
           "[2109.02124] The Koha Code: A Biological Theory of Memory"
          ],
          [
           "CodePen: Online Code Editor and Front End Web Developer Community"
          ],
          [
           "Fireship - Learn to Code Faster"
          ],
          [
           "Features | Cursor - The AI-first Code Editor"
          ],
          [
           "Login | HeadshotPro"
          ],
          [
           "Log In — WordPress.com"
          ],
          [
           "Login – Vercel"
          ],
          [
           "Online Banking Log In"
          ],
          [
           "Sign In | Pocket Prep"
          ],
          [
           "1, 2 & 3 Bedroom Apartments in Madison, WI | Preserve West"
          ],
          [
           "Home - Hometown Property Management, LLC"
          ],
          [
           "5934 Seminole Ct #1| Residential | Madison Property Management, Inc."
          ],
          [
           "Madison Area Listings | Madison Property Management, Inc"
          ],
          [
           "McBride Companies | McBride Companies LLC"
          ],
          [
           "404 Page Not Found"
          ],
          [
           "http://localhost:5173/"
          ],
          [
           "Welcome to nginx!"
          ],
          [
           "http://dev.thi.ng/gradients/"
          ],
          [
           "404 Not Found"
          ],
          [
           "404 Not Found"
          ],
          [
           "500 Internal Server Error"
          ],
          [
           "Error page :("
          ],
          [
           "Loreteller"
          ],
          [
           "Roland FP-30X Digital Piano with Speakers Home Bundle- Black | Sweetwater"
          ],
          [
           "Graphtoy"
          ],
          [
           "D3 by Observable | The JavaScript library for bespoke data visualization"
          ],
          [
           "Quiver Quantitative"
          ],
          [
           "Mash Radar - Etsy"
          ],
          [
           "ArtStation - Garden"
          ],
          [
           "Library | johnaugust.com"
          ],
          [
           "Humble Bundle - Key already claimed"
          ],
          [
           "Spurious Correlations"
          ],
          [
           "Sketchpad - Draw, Create, Share!"
          ],
          [
           "Learn | Pinecone"
          ],
          [
           "Chat with Open Large Language Models"
          ],
          [
           "Translations: | BabyAGI"
          ],
          [
           "TensorFlow Recommenders"
          ],
          [
           "Find Pre-trained Models | Kaggle"
          ],
          [
           "Banana - GPUs For Inference"
          ],
          [
           "AutoGPT Documentation"
          ],
          [
           "AutoGPT Official"
          ],
          [
           "AlphaCode"
          ],
          [
           "Machine Learning is Fun!"
          ],
          [
           "SDWORKS - Helping Individuals Reach Employment"
          ],
          [
           "https://www.intelligencecareers.gov/ic_jet2.html"
          ],
          [
           "Careers | Bedford Industries"
          ],
          [
           "My Job Search"
          ],
          [
           "ann arbor internships"
          ],
          [
           "Client-side component API • Docs • Svelte"
          ],
          [
           "Jamstack Conf"
          ],
          [
           "Transitions / Deferred transitions • Svelte Tutorial"
          ],
          [
           "The best deals in the 2022 Steam Winter Sale | PC Gamer"
          ],
          [
           "The top 100 PC games | PC Gamer"
          ],
          [
           "IsThereAnyDeal"
          ],
          [
           "Search"
          ],
          [
           "Shodan Search Engine"
          ],
          [
           "https://www.veromi.net/lander"
          ],
          [
           "Kali Linux Revealed (KLR/PEN-103) | Mastering the Penetest Distribution"
          ],
          [
           "Basic Linux Privilege Escalation - g0tmi1k"
          ],
          [
           "Windows Privilege Escalation Guide"
          ],
          [
           "Debugging - Setup"
          ],
          [
           "LPT: How to get more out of Google - Imgur"
          ],
          [
           "Flexfit - V-Flex Twill Cap - CVF038 | Custom Image Wear | Phelps"
          ],
          [
           "Scrapy | A Fast and Powerful Scraping and Web Crawling Framework"
          ],
          [
           "Ohma World"
          ],
          [
           "Remote Jobs in Programming, Design, Sales and more #OpenSalaries"
          ],
          [
           "PNPT: Certification Review - Black Hills Information Security"
          ],
          [
           "Reddit - Dive into anything"
          ],
          [
           "Rat Race Rebellion - Real Work from Home Jobs Since 1999"
          ],
          [
           "211 South Franklin Street #1 Lease.pdf"
          ],
          [
           "Svelte Recipes: World Map"
          ],
          [
           "How to Get Unbanned from Overwatch 2 in 2024 - Unbanster"
          ],
          [
           "River Nice LinkTree"
          ],
          [
           "https://www.enyxo.com/trial/"
          ],
          [
           "SerpApi: Google Search API"
          ],
          [
           "public-apis/public-apis: A collective list of free APIs"
          ],
          [
           "Concept2 rowing machine at DuckDuckGo"
          ],
          [
           "Agent-OM: Leveraging LLM Agents for Ontology Matching - 2312.00326v2.pdf"
          ],
          [
           "10 Noteworthy AI Research Papers of 2023"
          ],
          [
           "3D Gaussian Splatting for Real-Time Radiance Field Rendering"
          ],
          [
           "Mandelbrot and Julia set – MATIGEKUNSTINTELLIGENTIE"
          ],
          [
           "The Python Scrapy Playbook | The Python Scrapy Playbook"
          ],
          [
           "Bible Reading and Study Plans | Biblical Christianity"
          ],
          [
           "Taskade — AI-Powered Productivity, Your Second Brain."
          ],
          [
           "APT vs APT-GET: What's the Difference?"
          ],
          [
           "Slack"
          ],
          [
           "StackShare - Tech Stack Intelligence"
          ],
          [
           "UnityTechnologies/MachineLearningRoguelike: A small Roguelike game that uses Machine Learning to pow"
          ],
          [
           "Microsoft Forms"
          ],
          [
           "US Accidents (2016 - 2023)"
          ],
          [
           "Weights & Biases For Fans Of Two Minute Papers"
          ],
          [
           "Sponsors | Oregon Cyber Security | Cyber Oregon"
          ],
          [
           "Welcome [Root Me : Hacking and Information Security learning platform]"
          ],
          [
           "CheckUsernames - Social Media Username Search by KnowEm"
          ],
          [
           "Bypassing CSP using polyglot JPEGs | PortSwigger Research"
          ],
          [
           "This is How You Died | The Order of the Good Death"
          ],
          [
           "https://runeforge.gg/"
          ],
          [
           "Reddit - https://i.redd.it/lxlir08l5fpz.png"
          ],
          [
           "Manta1131 🌮 Situs Slot Gacor Terpercaya Jackpot Maxwin di Tangan"
          ],
          [
           "Drowning in Problems"
          ],
          [
           "Pyodide — Version 0.26.0"
          ],
          [
           "Jina CLIP v1: A Truly Multimodal Embeddings Model for Text and Image"
          ],
          [
           "jinaai/jina-clip-v1 · Hugging Face"
          ],
          [
           "Embedding API"
          ],
          [
           "[2405.20204] Jina CLIP: Your CLIP Model Is Also Your Text Retriever"
          ],
          [
           "Jina AI - Your Search Foundation, Supercharged."
          ],
          [
           "The 25 Best Two-Line Jokes Ever - Funny post - Imgur"
          ],
          [
           "doggo inspo (dogspo) - Imgur"
          ],
          [
           "How I feel when playing a Shooter - Imgur"
          ],
          [
           "When our parents told us - Imgur"
          ],
          [
           "Anon attends a party - Imgur"
          ],
          [
           "23 Worst/Most unfortunate ad placements - Imgur"
          ],
          [
           "To be a good dog I must use math - GIF - Imgur"
          ],
          [
           "Orange Hitler vs Grandma Nixon - Imgur"
          ],
          [
           "Have a Drink ! - Eat What You Want post - Imgur"
          ],
          [
           "Battlefield 1 Wallpapers - battlefield post - Imgur"
          ],
          [
           "- GIF - Imgur"
          ],
          [
           "When you become a smart trolls personal enemy - Imgur"
          ],
          [
           "Imgur: The magic of the Internet"
          ],
          [
           "Imgur: The magic of the Internet"
          ],
          [
           "Using ChatGPT to clean scraped data, and how to handle any big document with ChatGPT - LunaBrain"
          ],
          [
           "ChatGPT"
          ],
          [
           "ChatGPT"
          ],
          [
           "Scientists complete first map of an insect brain | Hub"
          ],
          [
           "Journal of Neuroscience"
          ],
          [
           "This Protein Could Boost Brain Function without Exercise | Scientific American"
          ],
          [
           "Mind & Brain | Scientific American"
          ],
          [
           "Home - RA Benefits"
          ],
          [
           "Dakota State University Team Site - Home"
          ],
          [
           "DEPT - Residence Life"
          ],
          [
           "Home"
          ],
          [
           "Oops! - Dakota State University"
          ],
          [
           "Page not found | CSE Research Experience for Undergraduates | Washington University in St. Louis"
          ],
          [
           "REU: Big Data Analytics at Oklahoma State University"
          ],
          [
           "http://reu.cs.wright.edu/projects.html"
          ],
          [
           "DIMACS REU: Research Experience for Undergraduates"
          ],
          [
           "REU Program | Worcester Polytechnic Institute"
          ],
          [
           "SRCA-REU - Research Projects"
          ],
          [
           "API Reference - OpenAI API"
          ],
          [
           "OpenAI Platform"
          ],
          [
           "WebGL Overlay (native API)  |  Maps JavaScript API  |  Google for Developers"
          ],
          [
           "Overview - OpenAI API"
          ],
          [
           "Inbox (2,919) - timgsereda@gmail.com - Gmail"
          ],
          [
           "Mail - Sereda, Timothy - Outlook"
          ],
          [
           "Mail - Timothy Sereda - Outlook"
          ],
          [
           "Mail - Sereda, Timothy - Outlook"
          ],
          [
           "Unity Cheat Sheet"
          ],
          [
           "HTML Cheat Sheet 📃 - The Best Interactive Cheat Sheet"
          ],
          [
           "524924d9-tft-set-7-cheat-sheet.png (PNG Image, 3000 × 1850 pixels) — Scaled (50%)"
          ],
          [
           "Metasploit cheat sheet | Infosec"
          ],
          [
           "Factorio v0.14 Cheat Sheets - Imgur"
          ],
          [
           "Creating a gird system in Unity2D : r/Unity2D"
          ],
          [
           "[Tutorial] Making a Grid with a 2D Array - Unity Forum"
          ],
          [
           "How to move an object with the mouse in Unity (2D) - Game Dev Beginner"
          ],
          [
           "https://pf.millennialsd.com/2017/09/26/resolved-the-united-states-should-require-universal-backgroun"
          ],
          [
           "Sanford Careers - Linux Server Administrator in Sioux Falls, South Dakota, United States"
          ],
          [
           "Sanford Careers - Unified Communications Technician - IT - Sioux Falls in Sioux Falls, South Dakota,"
          ],
          [
           "Sanford Careers - Applications Support Technician in Sioux Falls, South Dakota, United States"
          ]
         ],
         "hovertemplate": "t-SNE1=%{x}<br>t-SNE2=%{y}<br>Title=%{customdata[0]}<br>Cluster=%{marker.color}<extra></extra>",
         "legendgroup": "",
         "marker": {
          "color": [
           2,
           2,
           2,
           2,
           -1,
           2,
           2,
           -1,
           -1,
           -1,
           2,
           2,
           2,
           2,
           -1,
           -1,
           -1,
           2,
           -1,
           -1,
           2,
           2,
           2,
           -1,
           -1,
           2,
           2,
           2,
           2,
           2,
           2,
           -1,
           2,
           2,
           -1,
           2,
           2,
           2,
           -1,
           2,
           3,
           2,
           2,
           -1,
           -1,
           -1,
           -1,
           -1,
           2,
           -1,
           2,
           2,
           2,
           -1,
           2,
           2,
           2,
           2,
           2,
           2,
           2,
           -1,
           -1,
           -1,
           -1,
           1,
           1,
           -1,
           2,
           -1,
           -1,
           -1,
           -1,
           2,
           -1,
           -1,
           -1,
           2,
           2,
           2,
           2,
           2,
           2,
           2,
           2,
           2,
           2,
           2,
           2,
           2,
           -1,
           2,
           2,
           2,
           -1,
           2,
           -1,
           2,
           2,
           -1,
           2,
           2,
           2,
           2,
           2,
           2,
           2,
           2,
           2,
           0,
           0,
           0,
           0,
           0,
           0,
           2,
           2,
           2,
           2,
           2,
           2,
           2,
           2,
           -1,
           2,
           2,
           -1,
           2,
           2,
           2,
           -1,
           -1,
           2,
           2,
           2,
           2,
           2,
           2,
           2,
           2,
           2,
           2,
           2,
           2,
           2,
           2,
           2,
           2,
           2,
           2,
           2,
           2,
           2,
           2,
           2,
           2,
           -1,
           2,
           2,
           2,
           2,
           2,
           2,
           2,
           2,
           2,
           2,
           2,
           2,
           0,
           2,
           -1,
           -1,
           2,
           2,
           2,
           2,
           -1,
           -1,
           2,
           2,
           2,
           -1,
           2,
           -1,
           2,
           2,
           2,
           -1,
           2,
           2,
           2,
           2,
           2,
           2,
           -1,
           2,
           2,
           2,
           -1,
           2,
           2,
           2,
           2,
           2,
           2,
           2,
           2,
           2,
           2,
           2,
           2,
           2,
           2,
           2,
           2,
           2,
           2,
           2,
           2,
           2,
           2,
           2,
           1,
           1,
           1,
           1,
           2,
           2,
           2,
           2,
           2,
           2,
           2,
           2,
           2,
           2,
           2,
           2,
           2,
           2,
           2,
           3,
           3,
           3,
           3,
           2,
           2,
           2,
           2,
           2,
           2,
           2,
           2,
           2,
           2,
           2,
           2
          ],
          "coloraxis": "coloraxis",
          "symbol": "circle"
         },
         "mode": "markers",
         "name": "",
         "orientation": "v",
         "showlegend": false,
         "type": "scatter",
         "x": [
          0.47590428590774536,
          -1.556247353553772,
          -0.816703200340271,
          -0.0125255286693573,
          -0.9696745276451111,
          0.01887320913374424,
          9.878782272338867,
          -8.840592384338379,
          10.452046394348145,
          10.444293022155762,
          5.0479559898376465,
          -2.78043270111084,
          3.1418840885162354,
          -12.382721900939941,
          -16.13184356689453,
          -16.08985710144043,
          0.853073000907898,
          14.621410369873047,
          13.63179874420166,
          -6.6849541664123535,
          3.77414608001709,
          4.00351095199585,
          -5.005069255828857,
          -3.4963085651397705,
          -8.381319999694824,
          -6.655891418457031,
          -6.951300621032715,
          -11.644242286682129,
          -12.0525484085083,
          -12.127856254577637,
          -11.753705978393555,
          -11.193309783935547,
          -11.256349563598633,
          -6.633265972137451,
          -10.777971267700195,
          -5.042365074157715,
          11.865482330322266,
          -10.978517532348633,
          -4.55460786819458,
          2.6009554862976074,
          -1.8672044277191162,
          -3.9870381355285645,
          -6.181887149810791,
          -13.12298583984375,
          -15.509683609008789,
          -15.469111442565918,
          -0.42533043026924133,
          0.8716268539428711,
          -0.3507494628429413,
          0.7199780344963074,
          10.833332061767578,
          -2.3200035095214844,
          -1.0704569816589355,
          8.571305274963379,
          0.07075054943561554,
          2.127422332763672,
          -3.411097288131714,
          -3.1365809440612793,
          10.271516799926758,
          16.79277992248535,
          16.175289154052734,
          8.802886009216309,
          7.414644241333008,
          9.120824813842773,
          13.270938873291016,
          6.351728439331055,
          5.581756114959717,
          7.773410797119141,
          -2.4737937450408936,
          9.441344261169434,
          -10.917580604553223,
          4.38582706451416,
          5.304963111877441,
          -4.527256965637207,
          -7.878146648406982,
          0.6619155406951904,
          2.496532917022705,
          -9.008683204650879,
          -8.458233833312988,
          -2.2811174392700195,
          -4.176183223724365,
          -7.9136834144592285,
          -5.780419826507568,
          -5.504984378814697,
          -4.5594024658203125,
          -7.745709419250488,
          -17.710710525512695,
          -17.125125885009766,
          -17.342060089111328,
          -18.143211364746094,
          -0.037386033684015274,
          -18.699617385864258,
          -18.795005798339844,
          -17.884733200073242,
          -20.18128204345703,
          -3.3995509147644043,
          -20.04598617553711,
          -20.01150894165039,
          -6.345036506652832,
          -0.555365800857544,
          7.160885334014893,
          0.9870215058326721,
          1.6906758546829224,
          -0.4595075249671936,
          -3.030118703842163,
          -2.5313422679901123,
          -2.0689327716827393,
          -3.814422607421875,
          -4.910524845123291,
          11.359167098999023,
          -14.843855857849121,
          10.889702796936035,
          11.544634819030762,
          -14.753950119018555,
          12.059337615966797,
          1.4840245246887207,
          3.4896318912506104,
          2.1257948875427246,
          4.269110202789307,
          4.240502834320068,
          -5.963449478149414,
          7.9613142013549805,
          -1.9547123908996582,
          -8.629176139831543,
          6.709839344024658,
          6.181999683380127,
          7.43443489074707,
          -16.524158477783203,
          -0.11022068560123444,
          -6.646078586578369,
          -7.7284626960754395,
          12.156693458557129,
          0.31069204211235046,
          12.99350643157959,
          1.6159864664077759,
          5.302413463592529,
          12.131486892700195,
          11.520999908447266,
          6.119867324829102,
          6.543572902679443,
          14.632116317749023,
          13.950563430786133,
          12.83726692199707,
          4.339419841766357,
          -11.79321002960205,
          -12.533895492553711,
          -12.659479141235352,
          -13.462682723999023,
          4.185743808746338,
          2.1250321865081787,
          3.622040033340454,
          -0.9090768694877625,
          -0.9388132095336914,
          -1.5759773254394531,
          13.058920860290527,
          -7.215460300445557,
          -2.1712679862976074,
          -5.65518045425415,
          -5.987976551055908,
          -6.55168342590332,
          0.3672057092189789,
          -10.374340057373047,
          8.4657621383667,
          9.104452133178711,
          -10.841099739074707,
          -9.660037994384766,
          -9.431270599365234,
          -10.953956604003906,
          -9.082118034362793,
          10.068896293640137,
          4.789449691772461,
          0.5886943936347961,
          -11.020580291748047,
          -9.052253723144531,
          10.458501815795898,
          3.3338234424591064,
          -7.963715553283691,
          5.786905288696289,
          11.249475479125977,
          6.215874671936035,
          8.694608688354492,
          9.42829418182373,
          -11.856301307678223,
          9.822698593139648,
          -6.265902996063232,
          1.5711878538131714,
          -4.336462020874023,
          10.060698509216309,
          -7.072426795959473,
          11.00027084350586,
          10.563519477844238,
          -6.283517360687256,
          -4.492904186248779,
          -4.474257946014404,
          -2.9086251258850098,
          -3.5625672340393066,
          -4.29332971572876,
          -5.483473777770996,
          -5.606272220611572,
          2.9954373836517334,
          8.986342430114746,
          15.958992004394531,
          16.32257080078125,
          13.044559478759766,
          14.166193962097168,
          13.72903823852539,
          -4.1864237785339355,
          -8.03315544128418,
          -4.398440361022949,
          -5.175185203552246,
          -6.03427267074585,
          -4.037871837615967,
          -7.341906547546387,
          -4.987485885620117,
          -6.844229221343994,
          -7.579118251800537,
          -6.444351673126221,
          -5.127094268798828,
          -6.105361461639404,
          -5.886270523071289,
          10.674308776855469,
          17.413042068481445,
          17.335968017578125,
          8.760737419128418,
          9.051445007324219,
          8.001646041870117,
          8.045571327209473,
          5.386908531188965,
          5.366536617279053,
          5.839688301086426,
          15.973648071289062,
          4.400864601135254,
          14.491832733154297,
          14.77878189086914,
          15.116531372070312,
          15.78828239440918,
          15.38484001159668,
          14.993630409240723,
          5.876180648803711,
          5.793653964996338,
          3.164109468460083,
          5.808181285858154,
          -2.158651113510132,
          -2.5048272609710693,
          -2.8603250980377197,
          -2.5048272609710693,
          2.1841306686401367,
          2.0941152572631836,
          1.4057352542877197,
          -6.163228988647461,
          1.7116893529891968,
          4.365458011627197,
          4.4326887130737305,
          4.512967586517334,
          -0.4699954390525818,
          3.8883936405181885,
          3.3112969398498535,
          3.464277505874634
         ],
         "xaxis": "x",
         "y": [
          8.813875198364258,
          11.454218864440918,
          11.156452178955078,
          12.428105354309082,
          13.388542175292969,
          12.311655044555664,
          2.8978219032287598,
          -0.9968064427375793,
          11.752357482910156,
          11.75306224822998,
          9.976042747497559,
          8.673964500427246,
          9.925395965576172,
          -13.7974853515625,
          -8.356414794921875,
          -8.171128273010254,
          -8.757987022399902,
          2.1253392696380615,
          -1.1622234582901,
          -7.1130170822143555,
          3.5323193073272705,
          3.697507381439209,
          -2.9895992279052734,
          -6.359720230102539,
          -5.597292423248291,
          -5.2039079666137695,
          -4.310910701751709,
          -11.743657112121582,
          -13.022669792175293,
          -12.662875175476074,
          11.48828411102295,
          -13.968948364257812,
          11.145259857177734,
          14.584614753723145,
          -2.779747486114502,
          15.41127872467041,
          0.8284085988998413,
          8.360705375671387,
          10.963294982910156,
          11.871874809265137,
          16.443267822265625,
          13.533422470092773,
          14.771044731140137,
          -6.270698070526123,
          -6.060091972351074,
          -6.354610443115234,
          -11.34002685546875,
          -13.061635971069336,
          3.0205209255218506,
          -12.678775787353516,
          -4.787158966064453,
          -10.465481758117676,
          -10.03426742553711,
          -3.356814384460449,
          6.291354656219482,
          2.1651196479797363,
          6.775975227355957,
          -10.238770484924316,
          0.24035824835300446,
          1.131716012954712,
          -0.11140631139278412,
          -3.9343292713165283,
          -1.4985381364822388,
          -8.333992004394531,
          9.068644523620605,
          -9.424325942993164,
          -10.218857765197754,
          -7.245927333831787,
          -3.8737246990203857,
          -7.214489936828613,
          -8.057251930236816,
          -8.128159523010254,
          -10.673041343688965,
          8.108942031860352,
          -2.8301279544830322,
          -6.2776875495910645,
          -6.906323432922363,
          -4.415512561798096,
          -3.8856632709503174,
          8.030832290649414,
          3.679513454437256,
          5.457153797149658,
          2.4449777603149414,
          2.730736017227173,
          6.064416885375977,
          6.101330280303955,
          -0.4912736713886261,
          -1.0413912534713745,
          -1.649126648902893,
          -1.286484956741333,
          -6.986501693725586,
          1.041496753692627,
          0.07370103150606155,
          0.38178935647010803,
          -1.106253981590271,
          -12.323246955871582,
          -2.83219575881958,
          -1.9351112842559814,
          -3.846280813217163,
          7.796390056610107,
          -6.381143093109131,
          6.108306407928467,
          6.5593438148498535,
          4.906243801116943,
          1.989683985710144,
          1.810077428817749,
          2.9467222690582275,
          1.1021305322647095,
          5.247563362121582,
          -17.298303604125977,
          8.503766059875488,
          -16.959644317626953,
          -17.63506317138672,
          8.543728828430176,
          -16.239234924316406,
          5.149684429168701,
          5.477428436279297,
          4.368247032165527,
          -3.2868216037750244,
          -4.103953838348389,
          -5.943125247955322,
          4.8122735023498535,
          0.14568252861499786,
          9.426857948303223,
          2.331831693649292,
          3.1408801078796387,
          -0.3194065988063812,
          0.8194711804389954,
          0.5093718767166138,
          -1.4798046350479126,
          9.600334167480469,
          -6.215962886810303,
          0.7143800258636475,
          3.9771788120269775,
          15.483271598815918,
          9.474810600280762,
          2.7960152626037598,
          2.656069040298462,
          9.727845191955566,
          12.23983097076416,
          3.9715754985809326,
          2.606506586074829,
          4.569952964782715,
          -18.682334899902344,
          1.0331531763076782,
          3.270414352416992,
          2.465393543243408,
          3.333378553390503,
          6.923060894012451,
          7.883509159088135,
          7.098174095153809,
          -3.410426616668701,
          -3.5838568210601807,
          -2.2143445014953613,
          5.692774772644043,
          4.086092948913574,
          -6.701260089874268,
          6.35129976272583,
          7.132347583770752,
          7.906185150146484,
          8.996827125549316,
          7.996220588684082,
          6.748211860656738,
          7.174885272979736,
          2.4444222450256348,
          4.497232437133789,
          4.851875305175781,
          2.3251070976257324,
          1.788557529449463,
          -16.50112533569336,
          6.465904712677002,
          -5.048362731933594,
          6.382297992706299,
          10.921208381652832,
          7.179104804992676,
          10.363114356994629,
          2.9934163093566895,
          -5.554168224334717,
          -2.0893635749816895,
          2.6006085872650146,
          2.0459916591644287,
          6.705812931060791,
          -7.380496501922607,
          -0.5978235602378845,
          9.607905387878418,
          15.270408630371094,
          10.01015853881836,
          0.9359169602394104,
          11.475151062011719,
          -5.492668151855469,
          -1.6280525922775269,
          1.6841304302215576,
          4.253085613250732,
          -0.0378262922167778,
          4.49542760848999,
          -9.014725685119629,
          -2.3338565826416016,
          -8.903013229370117,
          4.5518927574157715,
          -10.882003784179688,
          4.331180095672607,
          -1.2507866621017456,
          -1.420982837677002,
          1.3673762083053589,
          -0.20490197837352753,
          1.0888882875442505,
          -11.336793899536133,
          -11.406508445739746,
          -12.592875480651855,
          -12.365283012390137,
          -10.44827938079834,
          -13.769540786743164,
          -12.702834129333496,
          -10.764668464660645,
          -11.07609748840332,
          -9.107563018798828,
          -11.843363761901855,
          -11.428398132324219,
          -12.655271530151367,
          -13.715095520019531,
          5.681673049926758,
          2.8094775676727295,
          2.814138889312744,
          -9.445836067199707,
          -10.099955558776855,
          -9.711400985717773,
          -10.429069519042969,
          -18.865591049194336,
          -17.144804000854492,
          -17.37517738342285,
          -10.71123218536377,
          -17.875146865844727,
          -10.833558082580566,
          -8.501617431640625,
          -10.37814712524414,
          -9.790149688720703,
          -8.924115180969238,
          -9.857786178588867,
          14.039365768432617,
          14.936869621276855,
          11.995991706848145,
          13.733904838562012,
          17.58038902282715,
          19.06136131286621,
          18.99582862854004,
          19.06136131286621,
          -1.2630751132965088,
          2.1947684288024902,
          -2.1675126552581787,
          5.697975158691406,
          -1.7749699354171753,
          0.03350850194692612,
          0.4793072044849396,
          0.19316795468330383,
          -7.714175224304199,
          -20.09377670288086,
          -20.19634246826172,
          -19.878742218017578
         ],
         "yaxis": "y"
        }
       ],
       "layout": {
        "coloraxis": {
         "colorbar": {
          "title": {
           "text": "Cluster"
          }
         },
         "colorscale": [
          [
           0,
           "#0d0887"
          ],
          [
           0.1111111111111111,
           "#46039f"
          ],
          [
           0.2222222222222222,
           "#7201a8"
          ],
          [
           0.3333333333333333,
           "#9c179e"
          ],
          [
           0.4444444444444444,
           "#bd3786"
          ],
          [
           0.5555555555555556,
           "#d8576b"
          ],
          [
           0.6666666666666666,
           "#ed7953"
          ],
          [
           0.7777777777777778,
           "#fb9f3a"
          ],
          [
           0.8888888888888888,
           "#fdca26"
          ],
          [
           1,
           "#f0f921"
          ]
         ]
        },
        "height": 800,
        "legend": {
         "tracegroupgap": 0
        },
        "margin": {
         "t": 60
        },
        "plot_bgcolor": "rgb(250,250,250)",
        "template": {
         "data": {
          "bar": [
           {
            "error_x": {
             "color": "#2a3f5f"
            },
            "error_y": {
             "color": "#2a3f5f"
            },
            "marker": {
             "line": {
              "color": "#E5ECF6",
              "width": 0.5
             },
             "pattern": {
              "fillmode": "overlay",
              "size": 10,
              "solidity": 0.2
             }
            },
            "type": "bar"
           }
          ],
          "barpolar": [
           {
            "marker": {
             "line": {
              "color": "#E5ECF6",
              "width": 0.5
             },
             "pattern": {
              "fillmode": "overlay",
              "size": 10,
              "solidity": 0.2
             }
            },
            "type": "barpolar"
           }
          ],
          "carpet": [
           {
            "aaxis": {
             "endlinecolor": "#2a3f5f",
             "gridcolor": "white",
             "linecolor": "white",
             "minorgridcolor": "white",
             "startlinecolor": "#2a3f5f"
            },
            "baxis": {
             "endlinecolor": "#2a3f5f",
             "gridcolor": "white",
             "linecolor": "white",
             "minorgridcolor": "white",
             "startlinecolor": "#2a3f5f"
            },
            "type": "carpet"
           }
          ],
          "choropleth": [
           {
            "colorbar": {
             "outlinewidth": 0,
             "ticks": ""
            },
            "type": "choropleth"
           }
          ],
          "contour": [
           {
            "colorbar": {
             "outlinewidth": 0,
             "ticks": ""
            },
            "colorscale": [
             [
              0,
              "#0d0887"
             ],
             [
              0.1111111111111111,
              "#46039f"
             ],
             [
              0.2222222222222222,
              "#7201a8"
             ],
             [
              0.3333333333333333,
              "#9c179e"
             ],
             [
              0.4444444444444444,
              "#bd3786"
             ],
             [
              0.5555555555555556,
              "#d8576b"
             ],
             [
              0.6666666666666666,
              "#ed7953"
             ],
             [
              0.7777777777777778,
              "#fb9f3a"
             ],
             [
              0.8888888888888888,
              "#fdca26"
             ],
             [
              1,
              "#f0f921"
             ]
            ],
            "type": "contour"
           }
          ],
          "contourcarpet": [
           {
            "colorbar": {
             "outlinewidth": 0,
             "ticks": ""
            },
            "type": "contourcarpet"
           }
          ],
          "heatmap": [
           {
            "colorbar": {
             "outlinewidth": 0,
             "ticks": ""
            },
            "colorscale": [
             [
              0,
              "#0d0887"
             ],
             [
              0.1111111111111111,
              "#46039f"
             ],
             [
              0.2222222222222222,
              "#7201a8"
             ],
             [
              0.3333333333333333,
              "#9c179e"
             ],
             [
              0.4444444444444444,
              "#bd3786"
             ],
             [
              0.5555555555555556,
              "#d8576b"
             ],
             [
              0.6666666666666666,
              "#ed7953"
             ],
             [
              0.7777777777777778,
              "#fb9f3a"
             ],
             [
              0.8888888888888888,
              "#fdca26"
             ],
             [
              1,
              "#f0f921"
             ]
            ],
            "type": "heatmap"
           }
          ],
          "heatmapgl": [
           {
            "colorbar": {
             "outlinewidth": 0,
             "ticks": ""
            },
            "colorscale": [
             [
              0,
              "#0d0887"
             ],
             [
              0.1111111111111111,
              "#46039f"
             ],
             [
              0.2222222222222222,
              "#7201a8"
             ],
             [
              0.3333333333333333,
              "#9c179e"
             ],
             [
              0.4444444444444444,
              "#bd3786"
             ],
             [
              0.5555555555555556,
              "#d8576b"
             ],
             [
              0.6666666666666666,
              "#ed7953"
             ],
             [
              0.7777777777777778,
              "#fb9f3a"
             ],
             [
              0.8888888888888888,
              "#fdca26"
             ],
             [
              1,
              "#f0f921"
             ]
            ],
            "type": "heatmapgl"
           }
          ],
          "histogram": [
           {
            "marker": {
             "pattern": {
              "fillmode": "overlay",
              "size": 10,
              "solidity": 0.2
             }
            },
            "type": "histogram"
           }
          ],
          "histogram2d": [
           {
            "colorbar": {
             "outlinewidth": 0,
             "ticks": ""
            },
            "colorscale": [
             [
              0,
              "#0d0887"
             ],
             [
              0.1111111111111111,
              "#46039f"
             ],
             [
              0.2222222222222222,
              "#7201a8"
             ],
             [
              0.3333333333333333,
              "#9c179e"
             ],
             [
              0.4444444444444444,
              "#bd3786"
             ],
             [
              0.5555555555555556,
              "#d8576b"
             ],
             [
              0.6666666666666666,
              "#ed7953"
             ],
             [
              0.7777777777777778,
              "#fb9f3a"
             ],
             [
              0.8888888888888888,
              "#fdca26"
             ],
             [
              1,
              "#f0f921"
             ]
            ],
            "type": "histogram2d"
           }
          ],
          "histogram2dcontour": [
           {
            "colorbar": {
             "outlinewidth": 0,
             "ticks": ""
            },
            "colorscale": [
             [
              0,
              "#0d0887"
             ],
             [
              0.1111111111111111,
              "#46039f"
             ],
             [
              0.2222222222222222,
              "#7201a8"
             ],
             [
              0.3333333333333333,
              "#9c179e"
             ],
             [
              0.4444444444444444,
              "#bd3786"
             ],
             [
              0.5555555555555556,
              "#d8576b"
             ],
             [
              0.6666666666666666,
              "#ed7953"
             ],
             [
              0.7777777777777778,
              "#fb9f3a"
             ],
             [
              0.8888888888888888,
              "#fdca26"
             ],
             [
              1,
              "#f0f921"
             ]
            ],
            "type": "histogram2dcontour"
           }
          ],
          "mesh3d": [
           {
            "colorbar": {
             "outlinewidth": 0,
             "ticks": ""
            },
            "type": "mesh3d"
           }
          ],
          "parcoords": [
           {
            "line": {
             "colorbar": {
              "outlinewidth": 0,
              "ticks": ""
             }
            },
            "type": "parcoords"
           }
          ],
          "pie": [
           {
            "automargin": true,
            "type": "pie"
           }
          ],
          "scatter": [
           {
            "fillpattern": {
             "fillmode": "overlay",
             "size": 10,
             "solidity": 0.2
            },
            "type": "scatter"
           }
          ],
          "scatter3d": [
           {
            "line": {
             "colorbar": {
              "outlinewidth": 0,
              "ticks": ""
             }
            },
            "marker": {
             "colorbar": {
              "outlinewidth": 0,
              "ticks": ""
             }
            },
            "type": "scatter3d"
           }
          ],
          "scattercarpet": [
           {
            "marker": {
             "colorbar": {
              "outlinewidth": 0,
              "ticks": ""
             }
            },
            "type": "scattercarpet"
           }
          ],
          "scattergeo": [
           {
            "marker": {
             "colorbar": {
              "outlinewidth": 0,
              "ticks": ""
             }
            },
            "type": "scattergeo"
           }
          ],
          "scattergl": [
           {
            "marker": {
             "colorbar": {
              "outlinewidth": 0,
              "ticks": ""
             }
            },
            "type": "scattergl"
           }
          ],
          "scattermapbox": [
           {
            "marker": {
             "colorbar": {
              "outlinewidth": 0,
              "ticks": ""
             }
            },
            "type": "scattermapbox"
           }
          ],
          "scatterpolar": [
           {
            "marker": {
             "colorbar": {
              "outlinewidth": 0,
              "ticks": ""
             }
            },
            "type": "scatterpolar"
           }
          ],
          "scatterpolargl": [
           {
            "marker": {
             "colorbar": {
              "outlinewidth": 0,
              "ticks": ""
             }
            },
            "type": "scatterpolargl"
           }
          ],
          "scatterternary": [
           {
            "marker": {
             "colorbar": {
              "outlinewidth": 0,
              "ticks": ""
             }
            },
            "type": "scatterternary"
           }
          ],
          "surface": [
           {
            "colorbar": {
             "outlinewidth": 0,
             "ticks": ""
            },
            "colorscale": [
             [
              0,
              "#0d0887"
             ],
             [
              0.1111111111111111,
              "#46039f"
             ],
             [
              0.2222222222222222,
              "#7201a8"
             ],
             [
              0.3333333333333333,
              "#9c179e"
             ],
             [
              0.4444444444444444,
              "#bd3786"
             ],
             [
              0.5555555555555556,
              "#d8576b"
             ],
             [
              0.6666666666666666,
              "#ed7953"
             ],
             [
              0.7777777777777778,
              "#fb9f3a"
             ],
             [
              0.8888888888888888,
              "#fdca26"
             ],
             [
              1,
              "#f0f921"
             ]
            ],
            "type": "surface"
           }
          ],
          "table": [
           {
            "cells": {
             "fill": {
              "color": "#EBF0F8"
             },
             "line": {
              "color": "white"
             }
            },
            "header": {
             "fill": {
              "color": "#C8D4E3"
             },
             "line": {
              "color": "white"
             }
            },
            "type": "table"
           }
          ]
         },
         "layout": {
          "annotationdefaults": {
           "arrowcolor": "#2a3f5f",
           "arrowhead": 0,
           "arrowwidth": 1
          },
          "autotypenumbers": "strict",
          "coloraxis": {
           "colorbar": {
            "outlinewidth": 0,
            "ticks": ""
           }
          },
          "colorscale": {
           "diverging": [
            [
             0,
             "#8e0152"
            ],
            [
             0.1,
             "#c51b7d"
            ],
            [
             0.2,
             "#de77ae"
            ],
            [
             0.3,
             "#f1b6da"
            ],
            [
             0.4,
             "#fde0ef"
            ],
            [
             0.5,
             "#f7f7f7"
            ],
            [
             0.6,
             "#e6f5d0"
            ],
            [
             0.7,
             "#b8e186"
            ],
            [
             0.8,
             "#7fbc41"
            ],
            [
             0.9,
             "#4d9221"
            ],
            [
             1,
             "#276419"
            ]
           ],
           "sequential": [
            [
             0,
             "#0d0887"
            ],
            [
             0.1111111111111111,
             "#46039f"
            ],
            [
             0.2222222222222222,
             "#7201a8"
            ],
            [
             0.3333333333333333,
             "#9c179e"
            ],
            [
             0.4444444444444444,
             "#bd3786"
            ],
            [
             0.5555555555555556,
             "#d8576b"
            ],
            [
             0.6666666666666666,
             "#ed7953"
            ],
            [
             0.7777777777777778,
             "#fb9f3a"
            ],
            [
             0.8888888888888888,
             "#fdca26"
            ],
            [
             1,
             "#f0f921"
            ]
           ],
           "sequentialminus": [
            [
             0,
             "#0d0887"
            ],
            [
             0.1111111111111111,
             "#46039f"
            ],
            [
             0.2222222222222222,
             "#7201a8"
            ],
            [
             0.3333333333333333,
             "#9c179e"
            ],
            [
             0.4444444444444444,
             "#bd3786"
            ],
            [
             0.5555555555555556,
             "#d8576b"
            ],
            [
             0.6666666666666666,
             "#ed7953"
            ],
            [
             0.7777777777777778,
             "#fb9f3a"
            ],
            [
             0.8888888888888888,
             "#fdca26"
            ],
            [
             1,
             "#f0f921"
            ]
           ]
          },
          "colorway": [
           "#636efa",
           "#EF553B",
           "#00cc96",
           "#ab63fa",
           "#FFA15A",
           "#19d3f3",
           "#FF6692",
           "#B6E880",
           "#FF97FF",
           "#FECB52"
          ],
          "font": {
           "color": "#2a3f5f"
          },
          "geo": {
           "bgcolor": "white",
           "lakecolor": "white",
           "landcolor": "#E5ECF6",
           "showlakes": true,
           "showland": true,
           "subunitcolor": "white"
          },
          "hoverlabel": {
           "align": "left"
          },
          "hovermode": "closest",
          "mapbox": {
           "style": "light"
          },
          "paper_bgcolor": "white",
          "plot_bgcolor": "#E5ECF6",
          "polar": {
           "angularaxis": {
            "gridcolor": "white",
            "linecolor": "white",
            "ticks": ""
           },
           "bgcolor": "#E5ECF6",
           "radialaxis": {
            "gridcolor": "white",
            "linecolor": "white",
            "ticks": ""
           }
          },
          "scene": {
           "xaxis": {
            "backgroundcolor": "#E5ECF6",
            "gridcolor": "white",
            "gridwidth": 2,
            "linecolor": "white",
            "showbackground": true,
            "ticks": "",
            "zerolinecolor": "white"
           },
           "yaxis": {
            "backgroundcolor": "#E5ECF6",
            "gridcolor": "white",
            "gridwidth": 2,
            "linecolor": "white",
            "showbackground": true,
            "ticks": "",
            "zerolinecolor": "white"
           },
           "zaxis": {
            "backgroundcolor": "#E5ECF6",
            "gridcolor": "white",
            "gridwidth": 2,
            "linecolor": "white",
            "showbackground": true,
            "ticks": "",
            "zerolinecolor": "white"
           }
          },
          "shapedefaults": {
           "line": {
            "color": "#2a3f5f"
           }
          },
          "ternary": {
           "aaxis": {
            "gridcolor": "white",
            "linecolor": "white",
            "ticks": ""
           },
           "baxis": {
            "gridcolor": "white",
            "linecolor": "white",
            "ticks": ""
           },
           "bgcolor": "#E5ECF6",
           "caxis": {
            "gridcolor": "white",
            "linecolor": "white",
            "ticks": ""
           }
          },
          "title": {
           "x": 0.05
          },
          "xaxis": {
           "automargin": true,
           "gridcolor": "white",
           "linecolor": "white",
           "ticks": "",
           "title": {
            "standoff": 15
           },
           "zerolinecolor": "white",
           "zerolinewidth": 2
          },
          "yaxis": {
           "automargin": true,
           "gridcolor": "white",
           "linecolor": "white",
           "ticks": "",
           "title": {
            "standoff": 15
           },
           "zerolinecolor": "white",
           "zerolinewidth": 2
          }
         }
        },
        "title": {
         "text": "Interactive t-SNE Visualization of Bookmark Clusters"
        },
        "width": 1000,
        "xaxis": {
         "anchor": "y",
         "domain": [
          0,
          1
         ],
         "title": {
          "text": "t-SNE1"
         }
        },
        "yaxis": {
         "anchor": "x",
         "domain": [
          0,
          1
         ],
         "title": {
          "text": "t-SNE2"
         }
        }
       }
      }
     },
     "metadata": {},
     "output_type": "display_data"
    },
    {
     "name": "stdout",
     "output_type": "stream",
     "text": [
      "Interactive plot saved as 'bookmark_clusters_interactive.html'\n"
     ]
    }
   ],
   "source": [
    "import json\n",
    "import numpy as np\n",
    "import hdbscan\n",
    "from hdbscan import HDBSCAN\n",
    "from hdbscan.validity import validity_index\n",
    "import pandas as pd\n",
    "from sklearn.decomposition import TruncatedSVD\n",
    "from sklearn.manifold import TSNE\n",
    "import plotly.express as px\n",
    "import colorcet as cc\n",
    "from collections import defaultdict\n",
    "import warnings\n",
    "from sklearn.preprocessing import StandardScaler\n",
    "\n",
    "def optimize_hdbscan_clustering(embeddings, min_cluster_size_range=range(5, 50, 5)):\n",
    "    best_score = -np.inf\n",
    "    best_labels = None\n",
    "    best_params = {}\n",
    "    \n",
    "    # Scale the embeddings\n",
    "    scaler = StandardScaler()\n",
    "    embeddings_scaled = scaler.fit_transform(embeddings)\n",
    "    \n",
    "    for min_cluster_size in min_cluster_size_range:\n",
    "        clusterer = HDBSCAN(min_cluster_size=min_cluster_size, min_samples=1, gen_min_span_tree=True)\n",
    "        clusterer.fit(embeddings_scaled)\n",
    "        \n",
    "        if len(set(clusterer.labels_)) > 1:  # Ensure we have more than one cluster\n",
    "            try:\n",
    "                with warnings.catch_warnings():\n",
    "                    warnings.filterwarnings('ignore', category=RuntimeWarning)\n",
    "                    score = hdbscan.validity.validity_index(embeddings_scaled, clusterer.labels_)\n",
    "                if score > best_score:\n",
    "                    best_score = score\n",
    "                    best_labels = clusterer.labels_\n",
    "                    best_params = {'min_cluster_size': min_cluster_size}\n",
    "            except Exception as e:\n",
    "                print(f\"Error calculating validity index for min_cluster_size={min_cluster_size}: {str(e)}\")\n",
    "                continue\n",
    "    \n",
    "    return best_score, best_params, best_labels\n",
    "\n",
    "def build_folder_structure(labels, titles):\n",
    "    root = {\"name\": \"Root\", \"type\": \"folder\", \"children\": []}\n",
    "    clusters = defaultdict(list)\n",
    "    \n",
    "    for label, title in zip(labels, titles):\n",
    "        if label != -1:  # -1 is the noise label in HDBSCAN\n",
    "            clusters[label].append({\"name\": title, \"type\": \"bookmark\"})\n",
    "        else:\n",
    "            root[\"children\"].append({\"name\": title, \"type\": \"bookmark\"})\n",
    "    \n",
    "    for label, bookmarks in clusters.items():\n",
    "        cluster_folder = {\"name\": f\"Cluster {label}\", \"type\": \"folder\", \"children\": bookmarks}\n",
    "        root[\"children\"].append(cluster_folder)\n",
    "    \n",
    "    return root\n",
    "\n",
    "def print_folder_structure(folder, indent=0):\n",
    "    prefix = \"  \" * indent\n",
    "    if folder[\"type\"] == \"folder\":\n",
    "        print(f\"{prefix}+ {folder['name']} ({len([c for c in folder['children'] if c['type'] == 'bookmark'])} bookmarks, {len([c for c in folder['children'] if c['type'] == 'folder'])} subfolders)\")\n",
    "        for child in folder[\"children\"]:\n",
    "            print_folder_structure(child, indent + 1)\n",
    "    else:\n",
    "        print(f\"{prefix}- {folder['name']}\")\n",
    "\n",
    "def visualize_embeddings_plotly(embeddings_2d, labels, titles):\n",
    "    df = pd.DataFrame({\n",
    "        't-SNE1': embeddings_2d[:, 0],\n",
    "        't-SNE2': embeddings_2d[:, 1],\n",
    "        'Cluster': labels,\n",
    "        'Title': titles\n",
    "    })\n",
    "\n",
    "    color_palette = cc.glasbey_dark\n",
    "\n",
    "    fig = px.scatter(df, x='t-SNE1', y='t-SNE2', color='Cluster',\n",
    "                     hover_data=['Title'], color_discrete_sequence=color_palette)\n",
    "\n",
    "    fig.update_layout(\n",
    "        title=\"Interactive t-SNE Visualization of Bookmark Clusters\",\n",
    "        plot_bgcolor='rgb(250,250,250)',\n",
    "        width=1000,\n",
    "        height=800,\n",
    "    )\n",
    "\n",
    "    fig.show()\n",
    "    fig.write_html(\"bookmark_clusters_interactive.html\")\n",
    "    print(\"Interactive plot saved as 'bookmark_clusters_interactive.html'\")\n",
    "\n",
    "# Load the embedded bookmarks\n",
    "with open('embedded_bookmarks.json') as f:\n",
    "    data = json.load(f)\n",
    "\n",
    "embeddings = np.array([bookmark[\"embedding\"] for bookmark in data])\n",
    "\n",
    "print(\"\\nHDBSCAN Clustering:\")\n",
    "hdbscan_score, hdbscan_params, hdbscan_labels = optimize_hdbscan_clustering(embeddings)\n",
    "titles = [bookmark[\"title\"] for bookmark in data]\n",
    "print(f\"Best HDBSCAN Score: {hdbscan_score:.4f}\")\n",
    "print(f\"Best Parameters: {hdbscan_params}\")\n",
    "print(f\"Number of Clusters: {len(set(hdbscan_labels)) - (1 if -1 in hdbscan_labels else 0)}\")\n",
    "\n",
    "# Build and print folder structure\n",
    "folder_structure = build_folder_structure(hdbscan_labels, titles)\n",
    "print(\"\\nFolder Structure:\")\n",
    "print_folder_structure(folder_structure)\n",
    "\n",
    "embeddings_reduced = TruncatedSVD(n_components=50, random_state=42).fit_transform(embeddings)\n",
    "\n",
    "# Perform t-SNE for visualization\n",
    "tsne = TSNE(n_components=2, random_state=42)\n",
    "embeddings_2d = tsne.fit_transform(embeddings_reduced)\n",
    "\n",
    "# Visualize with Plotly\n",
    "visualize_embeddings_plotly(embeddings_2d, hdbscan_labels, titles)"
   ]
  }
 ],
 "metadata": {
  "kernelspec": {
   "display_name": "base",
   "language": "python",
   "name": "python3"
  },
  "language_info": {
   "codemirror_mode": {
    "name": "ipython",
    "version": 3
   },
   "file_extension": ".py",
   "mimetype": "text/x-python",
   "name": "python",
   "nbconvert_exporter": "python",
   "pygments_lexer": "ipython3",
   "version": "3.10.14"
  }
 },
 "nbformat": 4,
 "nbformat_minor": 2
}
