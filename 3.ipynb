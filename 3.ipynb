{
 "cells": [
  {
   "cell_type": "markdown",
   "metadata": {},
   "source": [
    "# Bookmark Clustering with Hierarchical Clustering\n",
    "\n",
    "This notebook demonstrates the process of clustering bookmarks using their embeddings, applying hierarchical clustering, and optimizing the clustering parameters."
   ]
  },
  {
   "cell_type": "code",
   "execution_count": null,
   "metadata": {},
   "source": [
    "import json\n",
    "import numpy as np\n",
    "from scipy.cluster.hierarchy import linkage, fcluster, dendrogram\n",
    "from sklearn.metrics.pairwise import cosine_similarity\n",
    "from sklearn.metrics import silhouette_score\n",
    "import matplotlib.pyplot as plt\n",
    "from collections import defaultdict\n",
    "from tqdm.notebook import tqdm"
   ]
  },
  {
   "cell_type": "markdown",
   "metadata": {},
   "source": [
    "## Helper Functions"
   ]
  },
  {
   "cell_type": "code",
   "execution_count": null,
   "metadata": {},
   "source": [
    "def analyze_embeddings(embeddings):\n",
    "    print(\"Embedding analysis:\")\n",
    "    print(f\"Shape: {embeddings.shape}\")\n",
    "    print(f\"Mean: {np.mean(embeddings)}\")\n",
    "    print(f\"Std: {np.std(embeddings)}\")\n",
    "    print(f\"Min: {np.min(embeddings)}\")\n",
    "    print(f\"Max: {np.max(embeddings)}\")\n",
    "    \n",
    "    plt.figure(figsize=(10, 5))\n",
    "    plt.hist(embeddings.flatten(), bins=50)\n",
    "    plt.title(\"Distribution of Embedding Values\")\n",
    "    plt.xlabel(\"Value\")\n",
    "    plt.ylabel(\"Frequency\")\n",
    "    plt.show()\n",
    "\n",
    "def preprocess_embeddings(embeddings):\n",
    "    # Center and normalize embeddings\n",
    "    embeddings_centered = embeddings - np.mean(embeddings, axis=0)\n",
    "    embeddings_normalized = embeddings_centered / np.linalg.norm(embeddings_centered, axis=1, keepdims=True)\n",
    "    return embeddings_normalized\n",
    "\n",
    "def count_bookmarks(folder):\n",
    "    if folder[\"type\"] == \"bookmark\":\n",
    "        return 1\n",
    "    return sum(count_bookmarks(child) for child in folder.get(\"children\", []))\n",
    "\n",
    "def print_folder_structure(folder, indent=0):\n",
    "    if folder[\"type\"] == \"bookmark\":\n",
    "        print(\"  \" * indent + f\"- {folder['name']} (Bookmark)\")\n",
    "    else:\n",
    "        bookmark_count = sum(1 for child in folder.get(\"children\", []) if child[\"type\"] == \"bookmark\")\n",
    "        subfolder_count = sum(1 for child in folder.get(\"children\", []) if child[\"type\"] == \"folder\")\n",
    "        print(\"  \" * indent + f\"+ {folder['name']} ({bookmark_count} bookmarks, {subfolder_count} subfolders)\")\n",
    "        for child in folder.get(\"children\", []):\n",
    "            print_folder_structure(child, indent + 1)"
   ]
  },
  {
   "cell_type": "markdown",
   "metadata": {},
   "source": [
    "## Clustering Function"
   ]
  },
  {
   "cell_type": "code",
   "execution_count": null,
   "metadata": {},
   "source": [
    "def optimize_clustering(bookmark_data):\n",
    "    if isinstance(bookmark_data, str):\n",
    "        bookmark_data = json.loads(bookmark_data)\n",
    "    \n",
    "    embeddings = np.array([bookmark[\"embedding\"] for bookmark in bookmark_data])\n",
    "    \n",
    "    if embeddings.size == 0:\n",
    "        raise ValueError(\"Embeddings are empty. Cannot perform clustering.\")\n",
    "    \n",
    "    analyze_embeddings(embeddings)\n",
    "    \n",
    "    embeddings_preprocessed = preprocess_embeddings(embeddings)\n",
    "    \n",
    "    distances = 1 - cosine_similarity(embeddings_preprocessed)\n",
    "    Z = linkage(distances, method='ward')\n",
    "    \n",
    "    plt.figure(figsize=(10, 7))\n",
    "    dendrogram(Z, truncate_mode='lastp', p=30, leaf_rotation=90., leaf_font_size=12.)\n",
    "    plt.title('Hierarchical Clustering Dendrogram (truncated)')\n",
    "    plt.xlabel('sample index or (cluster size)')\n",
    "    plt.ylabel('distance')\n",
    "    plt.tight_layout()\n",
    "    plt.show()\n",
    "    \n",
    "    best_score = -1\n",
    "    best_threshold = None\n",
    "    best_result = None\n",
    "    \n",
    "    for distance_threshold in tqdm(np.arange(0.5, 3.0, 0.1), desc=\"Optimizing clustering\"):\n",
    "        clusters = fcluster(Z, t=distance_threshold, criterion='distance')\n",
    "        \n",
    "        if len(set(clusters)) > 1:\n",
    "            sil_score = silhouette_score(embeddings_preprocessed, clusters, metric='cosine')\n",
    "            if sil_score > best_score:\n",
    "                best_score = sil_score\n",
    "                best_threshold = distance_threshold\n",
    "                \n",
    "                def build_folder_structure(node):\n",
    "                    if node < len(bookmark_data):\n",
    "                        return {\n",
    "                            \"name\": bookmark_data[node][\"title\"],\n",
    "                            \"type\": \"bookmark\",\n",
    "                            \"url\": bookmark_data[node][\"url\"]\n",
    "                        }\n",
    "                    else:\n",
    "                        index = node - len(bookmark_data)\n",
    "                        left = int(Z[index][0])\n",
    "                        right = int(Z[index][1])\n",
    "                        folder = {\n",
    "                            \"name\": f\"Folder {node}\",\n",
    "                            \"type\": \"folder\",\n",
    "                            \"children\": []\n",
    "                        }\n",
    "                        folder[\"children\"].append(build_folder_structure(left))\n",
    "                        folder[\"children\"].append(build_folder_structure(right))\n",
    "                        return folder\n",
    "                \n",
    "                root_folder = build_folder_structure(len(Z) + len(bookmark_data) - 1)\n",
    "                \n",
    "                best_result = {\n",
    "                    \"folder_structure\": root_folder,\n",
    "                    \"num_clusters\": len(set(clusters)),\n",
    "                    \"distance_threshold\": distance_threshold,\n",
    "                    \"silhouette_score\": sil_score\n",
    "                }\n",
    "    \n",
    "    return best_result"
   ]
  },
  {
   "cell_type": "markdown",
   "metadata": {},
   "source": [
    "## Load Data and Perform Clustering"
   ]
  },
  {
   "cell_type": "code",
   "execution_count": null,
   "metadata": {},
   "source": [
    "# Load the embedded bookmarks\n",
    "with open('embedded_bookmarks.json') as f:\n",
    "    data = json.load(f)\n",
    "\n",
    "# Perform clustering\n",
    "result = optimize_clustering(data)\n",
    "\n",
    "# Display results\n",
    "print(\"Optimized Clustering Results:\")\n",
    "print(f\"Number of Clusters: {result['num_clusters']}\")\n",
    "print(f\"Optimal Distance Threshold: {result['distance_threshold']:.2f}\")\n",
    "print(f\"Best Silhouette Score: {result['silhouette_score']:.4f}\")\n",
    "\n",
    "total_bookmarks = count_bookmarks(result[\"folder_structure\"])\n",
    "print(f\"\\nTotal bookmarks: {total_bookmarks}\")\n",
    "\n",
    "print(\"\\nFolder Structure:\")\n",
    "print_folder_structure(result[\"folder_structure\"])"
   ]
  },
  {
   "cell_type": "markdown",
   "metadata": {},
   "source": [
    "## Visualization of Cluster Sizes"
   ]
  },
  {
   "cell_type": "code",
   "execution_count": null,
   "metadata": {},
   "source": [
    "def get_cluster_sizes(folder):\n",
    "    if folder[\"type\"] == \"bookmark\":\n",
    "        return [1]\n",
    "    sizes = [count_bookmarks(folder)]\n",
    "    for child in folder.get(\"children\", []):\n",
    "        sizes.extend(get_cluster_sizes(child))\n",
    "    return sizes\n",
    "\n",
    "cluster_sizes = get_cluster_sizes(result[\"folder_structure\"])\n",
    "\n",
    "plt.figure(figsize=(12, 6))\n",
    "plt.hist(cluster_sizes, bins=range(1, max(cluster_sizes) + 2, 1), align='left')\n",
    "plt.title(\"Distribution of Cluster Sizes\")\n",
    "plt.xlabel(\"Cluster Size\")\n",
    "plt.ylabel(\"Frequency\")\n",
    "plt.xticks(range(1, max(cluster_sizes) + 1, 1))\n",
    "plt.show()\n",
    "\n",
    "print(f\"Average cluster size: {np.mean(cluster_sizes):.2f}\")\n",
    "print(f\"Median cluster size: {np.median(cluster_sizes):.2f}\")\n",
    "print(f\"Largest cluster size: {max(cluster_sizes)}\")\n",
    "print(f\"Number of singleton clusters: {cluster_sizes.count(1)}\")"
   ]
  },
  {
   "cell_type": "markdown",
   "metadata": {},
   "source": [
    "## Analysis and Conclusions\n",
    "\n",
    "In this section, you can add your observations about the clustering results, discuss the effectiveness of the hierarchical clustering approach, and suggest potential improvements or next steps."
   ]
  }
 ],
 "metadata": {
  "kernelspec": {
   "display_name": "Python 3",
   "language": "python",
   "name": "python3"
  },
  "language_info": {
   "codemirror_mode": {
    "name": "ipython",
    "version": 3
   },
   "file_extension": ".py",
   "mimetype": "text/x-python",
   "name": "python",
   "nbconvert_exporter": "python",
   "pygments_lexer": "ipython3",
   "version": "3.8.5"
  }
 },
 "nbformat": 4,
 "nbformat_minor": 4
}